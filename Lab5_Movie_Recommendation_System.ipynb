{
  "cells": [
    {
      "cell_type": "markdown",
      "id": "6d3bb7c7",
      "metadata": {
        "id": "6d3bb7c7"
      },
      "source": [
        "# Recomender System\n",
        "Streaming services like Netflix and Amazon use past viewing data from a customer and others to suggest new content. For example, Netflix once asked users to rate movies on a scale of $1–5$, creating a large matrix with ratings from around 480,189 customers for 17,770 movies. Since most users only watched about 200 movies, 99% of the matrix was empty.\n",
        "\n",
        "To recommend movies, Netflix needed to fill in the missing ratings. The idea is that users who have watched similar movies may have similar preferences, allowing the system to predict ratings for movies a user hasn't seen, based on ratings from similar customers.\n",
        "\n",
        "In this lab, we use an equivalent version of PCA for Movie Recommendations (for more information, please refer to the related videos posted on Moodle for this week).\n",
        "\n",
        "Instructions:\n",
        "\n",
        "**Step 1:** Data Gathering\n",
        "\n",
        "**Step 2:** Data Preprocesing\n",
        "\n",
        "**Step 3:** Apply SVD\n",
        "\n",
        "**Step 4:** Writing a function to recommend movies for any user."
      ]
    },
    {
      "cell_type": "markdown",
      "id": "60fb3f98",
      "metadata": {
        "id": "60fb3f98"
      },
      "source": [
        "## Step 1: Data Gathering:"
      ]
    },
    {
      "cell_type": "markdown",
      "source": [
        "1. Start by importing the necessary Python libraries, such as Numpy and Pandas.\n",
        "\n",
        "2. Next, visit the provided URL: http://grouplens.org/datasets/movielens/. Under the \"recommended for education and development\" section, locate and download the file named `ml-latest-small.zip` (which has a size of 1 MB).\n",
        "\n",
        "3. After downloading, import the CSV files contained within the zip file.\n"
      ],
      "metadata": {
        "id": "PsNj1tXUyKnM"
      },
      "id": "PsNj1tXUyKnM"
    },
    {
      "cell_type": "code",
      "execution_count": 3,
      "id": "65131658",
      "metadata": {
        "id": "65131658"
      },
      "outputs": [],
      "source": [
        "import numpy as np\n",
        "import pandas as pd\n",
        "\n",
        "# read the movies.csv\n",
        "movies = pd.read_csv(\"movies.csv\")\n",
        "# read the ratings.csv\n",
        "ratings = pd.read_csv(\"ratings.csv\")"
      ]
    },
    {
      "cell_type": "markdown",
      "source": [
        "##Step 2: Data Preprocessing:\n"
      ],
      "metadata": {
        "id": "BjMbcdXgBKBN"
      },
      "id": "BjMbcdXgBKBN"
    },
    {
      "cell_type": "markdown",
      "id": "ccd06673",
      "metadata": {
        "id": "ccd06673"
      },
      "source": [
        "\n",
        "1. Begin by examining the first few rows of your data to familiarize yourself with its structure.\n",
        "\n",
        "2. Transform the data into a user-item rating matrix, where each row represents a user, each column represents a movie, and the values in the matrix are the ratings given by the users to the movies. You can achieve this using the `.pivot(index = 'userId', columns ='movieId', values = 'rating')` function.\n",
        "\n",
        "\n",
        "3. print a few rows to see if it is in the suitable format. You will probably see a lot of 'NaN' (not a number) values. To apply SVD, we need to have numerical values. Common treatment to handle these 'NaN' values include replacing them with zero or the average rating for each row or column. Discuss which one do you think is better. Use `.fillna()`\n",
        "\n",
        "4. Normalization step: De-mean the data (normalize by each users mean) and convert it from a dataframe to a numpy array.\n",
        "\n",
        "\n"
      ]
    },
    {
      "cell_type": "code",
      "execution_count": 5,
      "id": "6248a2fd",
      "metadata": {
        "id": "6248a2fd",
        "colab": {
          "base_uri": "https://localhost:8080/"
        },
        "outputId": "0fa68481-cf9f-4e89-a67b-263157058a27"
      },
      "outputs": [
        {
          "output_type": "stream",
          "name": "stdout",
          "text": [
            "   movieId                               title  \\\n",
            "0        1                    Toy Story (1995)   \n",
            "1        2                      Jumanji (1995)   \n",
            "2        3             Grumpier Old Men (1995)   \n",
            "3        4            Waiting to Exhale (1995)   \n",
            "4        5  Father of the Bride Part II (1995)   \n",
            "\n",
            "                                        genres  \n",
            "0  Adventure|Animation|Children|Comedy|Fantasy  \n",
            "1                   Adventure|Children|Fantasy  \n",
            "2                               Comedy|Romance  \n",
            "3                         Comedy|Drama|Romance  \n",
            "4                                       Comedy  \n",
            "<class 'pandas.core.frame.DataFrame'>\n",
            "RangeIndex: 9742 entries, 0 to 9741\n",
            "Data columns (total 3 columns):\n",
            " #   Column   Non-Null Count  Dtype \n",
            "---  ------   --------------  ----- \n",
            " 0   movieId  9742 non-null   int64 \n",
            " 1   title    9742 non-null   object\n",
            " 2   genres   9742 non-null   object\n",
            "dtypes: int64(1), object(2)\n",
            "memory usage: 228.5+ KB\n",
            "None\n"
          ]
        }
      ],
      "source": [
        "# exploring movies\n",
        "print(movies.head())\n",
        "print(movies.info())"
      ]
    },
    {
      "cell_type": "code",
      "source": [
        "# exploring ratings\n",
        "print(ratings.head())\n",
        "print(ratings.info())"
      ],
      "metadata": {
        "id": "gAHFY8uKyq2o",
        "colab": {
          "base_uri": "https://localhost:8080/"
        },
        "outputId": "85e8c5e2-1887-425f-dd89-feb54ec01d83"
      },
      "id": "gAHFY8uKyq2o",
      "execution_count": 6,
      "outputs": [
        {
          "output_type": "stream",
          "name": "stdout",
          "text": [
            "   userId  movieId  rating  timestamp\n",
            "0       1        1     4.0  964982703\n",
            "1       1        3     4.0  964981247\n",
            "2       1        6     4.0  964982224\n",
            "3       1       47     5.0  964983815\n",
            "4       1       50     5.0  964982931\n",
            "<class 'pandas.core.frame.DataFrame'>\n",
            "RangeIndex: 100836 entries, 0 to 100835\n",
            "Data columns (total 4 columns):\n",
            " #   Column     Non-Null Count   Dtype  \n",
            "---  ------     --------------   -----  \n",
            " 0   userId     100836 non-null  int64  \n",
            " 1   movieId    100836 non-null  int64  \n",
            " 2   rating     100836 non-null  float64\n",
            " 3   timestamp  100836 non-null  int64  \n",
            "dtypes: float64(1), int64(3)\n",
            "memory usage: 3.1 MB\n",
            "None\n"
          ]
        }
      ]
    },
    {
      "cell_type": "code",
      "source": [
        "# Transform the data into a user-item rating matrix\n",
        "user_item_rating_matrix = ratings.pivot(index = 'userId', columns ='movieId', values = 'rating')"
      ],
      "metadata": {
        "id": "avqQGGTWAYpt"
      },
      "id": "avqQGGTWAYpt",
      "execution_count": 12,
      "outputs": []
    },
    {
      "cell_type": "code",
      "source": [
        "# explore the outcome\n",
        "print(user_item_rating_matrix.head())"
      ],
      "metadata": {
        "colab": {
          "base_uri": "https://localhost:8080/"
        },
        "id": "FTcznwPNCIqg",
        "outputId": "fe4f4731-dd74-4a47-aafd-d326e1515420"
      },
      "id": "FTcznwPNCIqg",
      "execution_count": 9,
      "outputs": [
        {
          "output_type": "stream",
          "name": "stdout",
          "text": [
            "movieId  1       2       3       4       5       6       7       8       \\\n",
            "userId                                                                    \n",
            "1           4.0     NaN     4.0     NaN     NaN     4.0     NaN     NaN   \n",
            "2           NaN     NaN     NaN     NaN     NaN     NaN     NaN     NaN   \n",
            "3           NaN     NaN     NaN     NaN     NaN     NaN     NaN     NaN   \n",
            "4           NaN     NaN     NaN     NaN     NaN     NaN     NaN     NaN   \n",
            "5           4.0     NaN     NaN     NaN     NaN     NaN     NaN     NaN   \n",
            "\n",
            "movieId  9       10      ...  193565  193567  193571  193573  193579  193581  \\\n",
            "userId                   ...                                                   \n",
            "1           NaN     NaN  ...     NaN     NaN     NaN     NaN     NaN     NaN   \n",
            "2           NaN     NaN  ...     NaN     NaN     NaN     NaN     NaN     NaN   \n",
            "3           NaN     NaN  ...     NaN     NaN     NaN     NaN     NaN     NaN   \n",
            "4           NaN     NaN  ...     NaN     NaN     NaN     NaN     NaN     NaN   \n",
            "5           NaN     NaN  ...     NaN     NaN     NaN     NaN     NaN     NaN   \n",
            "\n",
            "movieId  193583  193585  193587  193609  \n",
            "userId                                   \n",
            "1           NaN     NaN     NaN     NaN  \n",
            "2           NaN     NaN     NaN     NaN  \n",
            "3           NaN     NaN     NaN     NaN  \n",
            "4           NaN     NaN     NaN     NaN  \n",
            "5           NaN     NaN     NaN     NaN  \n",
            "\n",
            "[5 rows x 9724 columns]\n"
          ]
        }
      ]
    },
    {
      "cell_type": "code",
      "source": [
        "#handeling missing info using the average\n",
        "user_item_rating_matrix.fillna(user_item_rating_matrix.mean(), inplace=True)"
      ],
      "metadata": {
        "id": "4uzrTTu1CPS1"
      },
      "id": "4uzrTTu1CPS1",
      "execution_count": 13,
      "outputs": []
    },
    {
      "cell_type": "code",
      "source": [
        "#print outcome\n",
        "print(user_item_rating_matrix.head())"
      ],
      "metadata": {
        "id": "SAxbZuN2CVvV",
        "colab": {
          "base_uri": "https://localhost:8080/"
        },
        "outputId": "12bfda90-c41f-44fc-aece-07b2bfe8b57d"
      },
      "id": "SAxbZuN2CVvV",
      "execution_count": 14,
      "outputs": [
        {
          "output_type": "stream",
          "name": "stdout",
          "text": [
            "movieId   1         2         3         4         5         6         7       \\\n",
            "userId                                                                         \n",
            "1        4.00000  3.431818  4.000000  2.357143  3.071429  4.000000  3.185185   \n",
            "2        3.92093  3.431818  3.259615  2.357143  3.071429  3.946078  3.185185   \n",
            "3        3.92093  3.431818  3.259615  2.357143  3.071429  3.946078  3.185185   \n",
            "4        3.92093  3.431818  3.259615  2.357143  3.071429  3.946078  3.185185   \n",
            "5        4.00000  3.431818  3.259615  2.357143  3.071429  3.946078  3.185185   \n",
            "\n",
            "movieId  8       9         10      ...  193565  193567  193571  193573  \\\n",
            "userId                             ...                                   \n",
            "1         2.875   3.125  3.496212  ...     3.5     3.0     4.0     4.0   \n",
            "2         2.875   3.125  3.496212  ...     3.5     3.0     4.0     4.0   \n",
            "3         2.875   3.125  3.496212  ...     3.5     3.0     4.0     4.0   \n",
            "4         2.875   3.125  3.496212  ...     3.5     3.0     4.0     4.0   \n",
            "5         2.875   3.125  3.496212  ...     3.5     3.0     4.0     4.0   \n",
            "\n",
            "movieId  193579  193581  193583  193585  193587  193609  \n",
            "userId                                                   \n",
            "1           3.5     4.0     3.5     3.5     3.5     4.0  \n",
            "2           3.5     4.0     3.5     3.5     3.5     4.0  \n",
            "3           3.5     4.0     3.5     3.5     3.5     4.0  \n",
            "4           3.5     4.0     3.5     3.5     3.5     4.0  \n",
            "5           3.5     4.0     3.5     3.5     3.5     4.0  \n",
            "\n",
            "[5 rows x 9724 columns]\n"
          ]
        }
      ]
    },
    {
      "cell_type": "code",
      "source": [
        "#Convert the data frame into a matrix (numpy array) using .values\n",
        "values = user_item_rating_matrix.values\n",
        "print(values.shape, values.size)"
      ],
      "metadata": {
        "id": "xGeymlGCD5da",
        "colab": {
          "base_uri": "https://localhost:8080/"
        },
        "outputId": "0667b7ef-4c57-480e-9581-208a07244a1d"
      },
      "id": "xGeymlGCD5da",
      "execution_count": 55,
      "outputs": [
        {
          "output_type": "stream",
          "name": "stdout",
          "text": [
            "(610, 9724) 5931640\n"
          ]
        }
      ]
    },
    {
      "cell_type": "code",
      "source": [
        "mean.shape"
      ],
      "metadata": {
        "colab": {
          "base_uri": "https://localhost:8080/"
        },
        "id": "H64Gn8CyVXCN",
        "outputId": "531696f6-cb15-440b-9425-281cea0943a8"
      },
      "id": "H64Gn8CyVXCN",
      "execution_count": 60,
      "outputs": [
        {
          "output_type": "execute_result",
          "data": {
            "text/plain": [
              "(610,)"
            ]
          },
          "metadata": {},
          "execution_count": 60
        }
      ]
    },
    {
      "cell_type": "code",
      "source": [
        "#de-mean data: data - average of data\n",
        "mean = np.mean(values, axis=1)\n",
        "# (use reshape.(-1,1)to align the dimensions properly)\n",
        "values_reshaped = values - mean.reshape(-1,1)"
      ],
      "metadata": {
        "id": "dWKnnEiNFIac"
      },
      "id": "dWKnnEiNFIac",
      "execution_count": 62,
      "outputs": []
    },
    {
      "cell_type": "code",
      "source": [
        "#print the outcome\n",
        "print(values_reshaped.shape)\n",
        "print(values_reshaped)"
      ],
      "metadata": {
        "id": "BCJRPfP5F84I",
        "colab": {
          "base_uri": "https://localhost:8080/"
        },
        "outputId": "e727ab77-3545-4f20-de92-6c3d00a41f53"
      },
      "id": "BCJRPfP5F84I",
      "execution_count": 63,
      "outputs": [
        {
          "output_type": "stream",
          "name": "stdout",
          "text": [
            "(610, 9724)\n",
            "[[ 0.71824662  0.1500648   0.71824662 ...  0.21824662  0.21824662\n",
            "   0.71824662]\n",
            " [ 0.65846657  0.16935452 -0.00284828 ...  0.23753633  0.23753633\n",
            "   0.73753633]\n",
            " [ 0.66309081  0.17397876  0.00177596 ...  0.24216058  0.24216058\n",
            "   0.74216058]\n",
            " ...\n",
            " [-0.74956362 -1.24956362 -1.24956362 ...  0.25043638  0.25043638\n",
            "   0.75043638]\n",
            " [-0.26159726  0.17022093 -0.00198187 ...  0.23840274  0.23840274\n",
            "   0.73840274]\n",
            " [ 1.7069987   0.13881688 -0.03338592 ...  0.2069987   0.2069987\n",
            "   0.7069987 ]]\n"
          ]
        }
      ]
    },
    {
      "cell_type": "markdown",
      "id": "bb71f35a",
      "metadata": {
        "id": "bb71f35a"
      },
      "source": [
        "## Step 3: Finding the Best Rank k:\n",
        "\n"
      ]
    },
    {
      "cell_type": "markdown",
      "source": [
        "The best rank $k$ is a matrix with prediction values; discuss this.\n",
        "\n",
        "1. Use k = 50. Determining the optimal rank 'k' for movie recomendation is another problem which can be the topic of your final project.\n",
        "\n",
        "\n",
        "3. From this matrix, construct the corresponding dataframe using: pd.DataFrame(prediction matrix, columns = original_dataframe.columns). This dataFrame will contain predicted ratings for movies by different users. Each row represents a user, and each column represents a movie, with the entries containing predicted ratings."
      ],
      "metadata": {
        "id": "QKa6LzrxGITJ"
      },
      "id": "QKa6LzrxGITJ"
    },
    {
      "cell_type": "code",
      "execution_count": 64,
      "id": "a05fb70c",
      "metadata": {
        "id": "a05fb70c"
      },
      "outputs": [],
      "source": [
        "# use TruncatedSVD to perform dimensionality reduction with svd\n",
        "from sklearn.decomposition import TruncatedSVD\n",
        "\n",
        "svd = TruncatedSVD(n_components=50)\n",
        "U = svd.fit_transform(values_reshaped)\n",
        "sigma = svd.singular_values_\n",
        "Vt = svd.components_\n",
        "\n"
      ]
    },
    {
      "cell_type": "code",
      "source": [
        "# print U and its shape\n",
        "print(U.shape)\n",
        "print(U)"
      ],
      "metadata": {
        "id": "WCDliC6CHfgp",
        "colab": {
          "base_uri": "https://localhost:8080/"
        },
        "outputId": "494a5f3d-5e80-4411-9454-41a087fd82e8"
      },
      "id": "WCDliC6CHfgp",
      "execution_count": 65,
      "outputs": [
        {
          "output_type": "stream",
          "name": "stdout",
          "text": [
            "(610, 50)\n",
            "[[-8.62817224e+01  3.24540098e+00  2.48469995e+00 ...  7.84936181e-01\n",
            "  -2.62865442e+00  1.44518691e+00]\n",
            " [-8.57684945e+01 -8.03517201e-02  3.60114411e-02 ...  1.14173589e-02\n",
            "   2.53150272e-01  4.86676134e-03]\n",
            " [-8.56175212e+01 -7.11701114e-01 -8.49937649e-02 ... -9.05915840e-01\n",
            "   3.77811721e-01 -2.22543614e+00]\n",
            " ...\n",
            " [-8.57666407e+01 -2.52646751e+00 -9.98824062e+00 ... -8.46634333e-02\n",
            "   2.99965475e+00  1.76364651e+00]\n",
            " [-8.56962863e+01 -4.57895759e-01 -2.99233722e-01 ...  1.08411166e-01\n",
            "  -7.70764667e-02  2.11478182e-01]\n",
            " [-8.67776898e+01  6.12398046e+00 -1.08047871e+00 ...  1.71520334e+00\n",
            "   3.44261163e+00 -5.88995893e-01]]\n"
          ]
        }
      ]
    },
    {
      "cell_type": "code",
      "source": [
        "# print V.T and its shape\n",
        "print(Vt.shape)\n",
        "print(Vt)"
      ],
      "metadata": {
        "id": "VNouqUeSHpt2",
        "colab": {
          "base_uri": "https://localhost:8080/"
        },
        "outputId": "c4ee5120-33f1-4a69-f823-e4f5fa1aa707"
      },
      "id": "VNouqUeSHpt2",
      "execution_count": 66,
      "outputs": [
        {
          "output_type": "stream",
          "name": "stdout",
          "text": [
            "(50, 9724)\n",
            "[[-7.68181837e-03 -1.97614783e-03  3.15195011e-05 ... -2.76926894e-03\n",
            "  -2.76926894e-03 -8.59846188e-03]\n",
            " [ 7.51635503e-02  7.14776503e-02  3.98506617e-02 ... -4.76074639e-03\n",
            "  -4.76074639e-03 -5.23082890e-03]\n",
            " [ 2.08859378e-02 -5.62680452e-05  5.22739923e-02 ... -8.72948254e-05\n",
            "  -8.72948254e-05 -5.05135845e-05]\n",
            " ...\n",
            " [ 2.91413073e-02 -1.50226611e-02 -6.94574199e-03 ... -5.58600603e-04\n",
            "  -5.58600603e-04 -5.42091005e-04]\n",
            " [-4.33022073e-02 -9.94852084e-03  8.51243606e-03 ...  3.57121104e-04\n",
            "   3.57121104e-04  3.09984651e-04]\n",
            " [-2.77311115e-02 -8.70639224e-03  3.74350120e-03 ... -5.45747875e-04\n",
            "  -5.45747875e-04 -4.49319100e-04]]\n"
          ]
        }
      ]
    },
    {
      "cell_type": "code",
      "source": [
        "#print sigma and its shape\n",
        "print(sigma.shape)\n",
        "print(sigma)"
      ],
      "metadata": {
        "id": "MWXo4S5nHrDs",
        "colab": {
          "base_uri": "https://localhost:8080/"
        },
        "outputId": "1547a2f7-f162-44dc-b111-7b0599e11eab"
      },
      "id": "MWXo4S5nHrDs",
      "execution_count": 67,
      "outputs": [
        {
          "output_type": "stream",
          "name": "stdout",
          "text": [
            "(50,)\n",
            "[2118.4775165    50.98252305   39.59690343   38.87654867   36.25823439\n",
            "   33.79609184   33.30279443   32.49134738   31.3353296    30.97644785\n",
            "   30.32638847   29.45907963   29.33417799   28.59789368   27.53450296\n",
            "   27.35132401   26.87870911   26.41960053   26.267024     25.69384792\n",
            "   25.45488435   25.145118     24.9615291    24.51442564   24.33633926\n",
            "   24.0500835    23.83504847   23.51165321   23.33079009   23.27334245\n",
            "   22.93012937   22.8233689    22.50691212   21.99336104   21.88057012\n",
            "   21.83052639   21.62708733   21.60813286   21.42764825   21.20454135\n",
            "   21.12859492   20.70472455   20.59514223   20.41353382   20.35693042\n",
            "   20.19876587   19.83729948   19.66354313   19.46790117   19.39619836]\n"
          ]
        }
      ]
    },
    {
      "cell_type": "code",
      "source": [
        "# convert sigma into a diagonal matrix using np.diag\n",
        "sigma_diag = np.diag(sigma)\n",
        "print(sigma_diag.shape)"
      ],
      "metadata": {
        "id": "5J1mwYVQHyVp",
        "colab": {
          "base_uri": "https://localhost:8080/"
        },
        "outputId": "5c5c1747-0abe-4817-88bc-492d564380aa"
      },
      "id": "5J1mwYVQHyVp",
      "execution_count": 68,
      "outputs": [
        {
          "output_type": "stream",
          "name": "stdout",
          "text": [
            "(50, 50)\n"
          ]
        }
      ]
    },
    {
      "cell_type": "code",
      "source": [
        "# Estimate your data by computing U *sigma* V\n",
        "first_array = np.matmul(U, sigma_diag)\n",
        "data = np.matmul(first_array, Vt)"
      ],
      "metadata": {
        "id": "BuEnTsjsIRcx"
      },
      "id": "BuEnTsjsIRcx",
      "execution_count": 74,
      "outputs": []
    },
    {
      "cell_type": "code",
      "source": [
        "# now we can predict rating by adding mean to this estimate\n",
        "data = data + mean.reshape(-1,1)"
      ],
      "metadata": {
        "id": "9UHCtjgpIt0H"
      },
      "id": "9UHCtjgpIt0H",
      "execution_count": 76,
      "outputs": []
    },
    {
      "cell_type": "code",
      "source": [
        "#use pd.DataFrame to construct a dataframe containing ratings\n",
        "prediction = pd.DataFrame(data, columns=user_item_rating_matrix.columns)\n",
        "print(prediction.head)\n",
        "#print a few rows"
      ],
      "metadata": {
        "id": "-BEsXdHMI5r4",
        "colab": {
          "base_uri": "https://localhost:8080/"
        },
        "outputId": "b576f2cb-f07c-42bb-c76b-5b23496baef9"
      },
      "id": "-BEsXdHMI5r4",
      "execution_count": 78,
      "outputs": [
        {
          "output_type": "stream",
          "name": "stdout",
          "text": [
            "<bound method NDFrame.head of movieId       1           2          3            4           5       \\\n",
            "0        1415.378595  375.148705  13.880129 -1926.250911 -399.088455   \n",
            "1        1399.019246  362.317592  -3.252775 -1914.517360 -400.593044   \n",
            "2        1393.856245  360.656000  -3.015361 -1911.623289 -400.207290   \n",
            "3        1386.326870  357.595134   0.027390 -1911.964728 -399.665795   \n",
            "4        1400.490774  360.870533  -5.173405 -1914.575321 -400.626288   \n",
            "..               ...         ...        ...          ...         ...   \n",
            "605      1390.184807  349.991574  -4.511977 -1911.748249 -404.521512   \n",
            "606      1391.298115  365.888684   6.454991 -1910.626098 -396.156073   \n",
            "607      1332.237997  320.202116 -52.380195 -1914.775460 -413.730351   \n",
            "608      1395.398419  359.704723  -4.813563 -1913.199111 -401.551485   \n",
            "609      1455.853131  380.041840  -0.888030 -1938.288688 -406.654274   \n",
            "\n",
            "movieId       6           7           8           9           10      ...  \\\n",
            "0        1472.572111 -160.567280 -824.865001 -288.299763  502.516984  ...   \n",
            "1        1451.199193 -160.316932 -817.460435 -287.881911  499.099508  ...   \n",
            "2        1448.512199 -160.333893 -814.569814 -287.234403  499.580256  ...   \n",
            "3        1448.885022 -156.186551 -816.025625 -285.741911  502.229056  ...   \n",
            "4        1450.385024 -160.323077 -817.780215 -288.249799  497.538795  ...   \n",
            "..               ...         ...         ...         ...         ...  ...   \n",
            "605      1452.030879 -160.526399 -817.214397 -288.209571  490.606152  ...   \n",
            "606      1453.638715 -157.547280 -816.117143 -285.393179  503.302153  ...   \n",
            "607      1459.205890 -170.141928 -821.251524 -289.881344  505.562843  ...   \n",
            "608      1449.305777 -160.689860 -817.199415 -287.782470  498.051160  ...   \n",
            "609      1491.082985 -157.853801 -825.676208 -289.514472  515.854951  ...   \n",
            "\n",
            "movieId      193565      193567       193571       193573      193579  \\\n",
            "0        508.676699 -556.699170  1574.052569  1574.052569  508.676699   \n",
            "1        506.436827 -552.725666  1565.599320  1565.599320  506.436827   \n",
            "2        505.781777 -551.568779  1563.132334  1563.132334  505.781777   \n",
            "3        505.928821 -551.863932  1563.721575  1563.721575  505.928821   \n",
            "4        506.504032 -552.672506  1565.680569  1565.680569  506.504032   \n",
            "..              ...         ...          ...          ...         ...   \n",
            "605      505.734517 -551.960302  1563.429336  1563.429336  505.734517   \n",
            "606      505.438837 -552.082471  1562.960145  1562.960145  505.438837   \n",
            "607      507.069289 -552.095058  1566.233637  1566.233637  507.069289   \n",
            "608      506.082223 -552.198218  1564.362665  1564.362665  506.082223   \n",
            "609      510.892315 -560.460086  1582.244715  1582.244715  510.892315   \n",
            "\n",
            "movieId       193581      193583      193585      193587       193609  \n",
            "0        1574.052569  508.676699  508.676699  508.676699  1574.052569  \n",
            "1        1565.599320  506.436827  506.436827  506.436827  1565.599320  \n",
            "2        1563.132334  505.781777  505.781777  505.781777  1563.132334  \n",
            "3        1563.721575  505.928821  505.928821  505.928821  1563.721575  \n",
            "4        1565.680569  506.504032  506.504032  506.504032  1565.680569  \n",
            "..               ...         ...         ...         ...          ...  \n",
            "605      1563.429336  505.734517  505.734517  505.734517  1563.429336  \n",
            "606      1562.960145  505.438837  505.438837  505.438837  1562.960145  \n",
            "607      1566.233637  507.069289  507.069289  507.069289  1566.233637  \n",
            "608      1564.362665  506.082223  506.082223  506.082223  1564.362665  \n",
            "609      1582.244715  510.892315  510.892315  510.892315  1582.244715  \n",
            "\n",
            "[610 rows x 9724 columns]>\n"
          ]
        }
      ]
    },
    {
      "cell_type": "markdown",
      "source": [
        "## Step 4: Movie Recommendations:\n"
      ],
      "metadata": {
        "id": "WgkhbNXiKKs7"
      },
      "id": "WgkhbNXiKKs7"
    },
    {
      "cell_type": "markdown",
      "id": "c231d848",
      "metadata": {
        "id": "c231d848"
      },
      "source": [
        "Write a recommendation function that suggests movies to a user based on predicted ratings. It takes in a user id and a number k, prints user's original rating, and recomends k movies.\n",
        "\n",
        "\n",
        "\n",
        "\n",
        "\n"
      ]
    },
    {
      "cell_type": "code",
      "execution_count": 79,
      "id": "ade124bc",
      "metadata": {
        "id": "ade124bc"
      },
      "outputs": [],
      "source": [
        "def recommend_movies(predictions_df, userID, movies_df, original_ratings_df, num_recommendations=5):\n",
        "\n",
        "    #Step 1: Get and sort the user's predictions\n",
        "    ## Adjust userID to match the zero-based index in predictions_df\n",
        "    user_row_number = userID - 1 # UserID starts at 1, not 0\n",
        "    ## Sort the predicted ratings for userID in descending order (highest predicted ratings first).\n",
        "    sorted_user_predictions = predictions_df.iloc[user_row_number].sort_values(ascending=False)\n",
        "\n",
        "    # Step 2: Get the user's data and merge in the movie information\n",
        "    ## Filter the original ratings DataFrame to only include the movies rated by userID .\n",
        "    user_data = original_ratings_df[original_ratings_df.userId == (userID)]\n",
        "    ##Merge the user data with movie details (titles, genres, etc.), and sort them by their actual ratings.\n",
        "    user_full = (user_data.merge(movies_df, how = 'left', left_on = 'movieId', right_on = 'movieId').\n",
        "                     sort_values(['rating'], ascending=False)\n",
        "                 )\n",
        "\n",
        "    print ('User {0} has already rated {1} movies.'.format(userID, user_full.shape[0]))\n",
        "    print ('Recommending the highest {0} predicted ratings movies not already rated.'.format(num_recommendations))\n",
        "\n",
        "\n",
        "\n",
        "    # Step 3: Recommend the highest predicted rating movies that the user hasn't seen yet\n",
        "    ## Filter out movies the user has already rated.\n",
        "    recommendations = (movies_df[~movies_df['movieId'].isin(user_full['movieId'])].\n",
        "         merge(pd.DataFrame(sorted_user_predictions).reset_index(), how = 'left',\n",
        "               left_on = 'movieId',\n",
        "               right_on = 'movieId').\n",
        "         rename(columns = {user_row_number: 'Predictions'}).\n",
        "         sort_values('Predictions', ascending = False).\n",
        "                       iloc[:num_recommendations, :-1]\n",
        "                      )\n",
        "    print(recommendations)\n",
        "\n",
        "    return user_full, recommendations\n",
        "\n"
      ]
    },
    {
      "cell_type": "code",
      "source": [
        "already_rated, predictions = recommend_movies(prediction, 400, movies, ratings, 3)"
      ],
      "metadata": {
        "colab": {
          "base_uri": "https://localhost:8080/"
        },
        "id": "Xaf_BNkmZXHl",
        "outputId": "ad9754fd-9203-46bc-ec6a-707b6d21493e"
      },
      "id": "Xaf_BNkmZXHl",
      "execution_count": 80,
      "outputs": [
        {
          "output_type": "stream",
          "name": "stdout",
          "text": [
            "User 400 has already rated 43 movies.\n",
            "Recommending the highest 3 predicted ratings movies not already rated.\n",
            "      movieId                             title        genres\n",
            "1624     2196                  Knock Off (1998)        Action\n",
            "3083     4180        Reform School Girls (1986)  Action|Drama\n",
            "9173   151769  Three from Prostokvashino (1978)     Animation\n"
          ]
        }
      ]
    },
    {
      "cell_type": "markdown",
      "source": [
        "__Last step:__\n",
        "Add your own rating to the ratings dataframe and evaluate how well your recommender system performs!"
      ],
      "metadata": {
        "id": "jEjRj1UaZcQn"
      },
      "id": "jEjRj1UaZcQn"
    },
    {
      "cell_type": "code",
      "source": [
        "my_ratings = pd.DataFrame({\"userId\" : [], \"movieId\" : [], \"rating\" : [], \"timestamp\" : []})\n",
        "ratings.concact(my_ratings)"
      ],
      "metadata": {
        "id": "XaJcCZiSboIs"
      },
      "id": "XaJcCZiSboIs",
      "execution_count": null,
      "outputs": []
    },
    {
      "cell_type": "code",
      "source": [
        "print(ratings)\n",
        "print(ratings[\"rating\"].max())"
      ],
      "metadata": {
        "colab": {
          "base_uri": "https://localhost:8080/",
          "height": 578
        },
        "id": "tJw6cqfIY2Yj",
        "outputId": "c8705853-2a6b-4943-a2cb-c26169474855"
      },
      "id": "tJw6cqfIY2Yj",
      "execution_count": 87,
      "outputs": [
        {
          "output_type": "stream",
          "name": "stdout",
          "text": [
            "        userId  movieId  rating   timestamp\n",
            "0            1        1     4.0   964982703\n",
            "1            1        3     4.0   964981247\n",
            "2            1        6     4.0   964982224\n",
            "3            1       47     5.0   964983815\n",
            "4            1       50     5.0   964982931\n",
            "...        ...      ...     ...         ...\n",
            "100831     610   166534     4.0  1493848402\n",
            "100832     610   168248     5.0  1493850091\n",
            "100833     610   168250     5.0  1494273047\n",
            "100834     610   168252     5.0  1493846352\n",
            "100835     610   170875     3.0  1493846415\n",
            "\n",
            "[100836 rows x 4 columns]\n",
            "5.0\n"
          ]
        },
        {
          "output_type": "error",
          "ename": "AttributeError",
          "evalue": "'DataFrame' object has no attribute 'append'",
          "traceback": [
            "\u001b[0;31m---------------------------------------------------------------------------\u001b[0m",
            "\u001b[0;31mAttributeError\u001b[0m                            Traceback (most recent call last)",
            "\u001b[0;32m<ipython-input-87-c69d86f972b7>\u001b[0m in \u001b[0;36m<cell line: 3>\u001b[0;34m()\u001b[0m\n\u001b[1;32m      1\u001b[0m \u001b[0mprint\u001b[0m\u001b[0;34m(\u001b[0m\u001b[0mratings\u001b[0m\u001b[0;34m)\u001b[0m\u001b[0;34m\u001b[0m\u001b[0;34m\u001b[0m\u001b[0m\n\u001b[1;32m      2\u001b[0m \u001b[0mprint\u001b[0m\u001b[0;34m(\u001b[0m\u001b[0mratings\u001b[0m\u001b[0;34m[\u001b[0m\u001b[0;34m\"rating\"\u001b[0m\u001b[0;34m]\u001b[0m\u001b[0;34m.\u001b[0m\u001b[0mmax\u001b[0m\u001b[0;34m(\u001b[0m\u001b[0;34m)\u001b[0m\u001b[0;34m)\u001b[0m\u001b[0;34m\u001b[0m\u001b[0;34m\u001b[0m\u001b[0m\n\u001b[0;32m----> 3\u001b[0;31m \u001b[0mratings\u001b[0m\u001b[0;34m.\u001b[0m\u001b[0mappend\u001b[0m\u001b[0;34m(\u001b[0m\u001b[0;34m[\u001b[0m\u001b[0;36m611\u001b[0m\u001b[0;34m,\u001b[0m \u001b[0;36m1\u001b[0m\u001b[0;34m,\u001b[0m \u001b[0;36m5\u001b[0m\u001b[0;34m,\u001b[0m \u001b[0;36m123456789\u001b[0m\u001b[0;34m]\u001b[0m\u001b[0;34m)\u001b[0m\u001b[0;34m\u001b[0m\u001b[0;34m\u001b[0m\u001b[0m\n\u001b[0m",
            "\u001b[0;32m/usr/local/lib/python3.10/dist-packages/pandas/core/generic.py\u001b[0m in \u001b[0;36m__getattr__\u001b[0;34m(self, name)\u001b[0m\n\u001b[1;32m   6297\u001b[0m         ):\n\u001b[1;32m   6298\u001b[0m             \u001b[0;32mreturn\u001b[0m \u001b[0mself\u001b[0m\u001b[0;34m[\u001b[0m\u001b[0mname\u001b[0m\u001b[0;34m]\u001b[0m\u001b[0;34m\u001b[0m\u001b[0;34m\u001b[0m\u001b[0m\n\u001b[0;32m-> 6299\u001b[0;31m         \u001b[0;32mreturn\u001b[0m \u001b[0mobject\u001b[0m\u001b[0;34m.\u001b[0m\u001b[0m__getattribute__\u001b[0m\u001b[0;34m(\u001b[0m\u001b[0mself\u001b[0m\u001b[0;34m,\u001b[0m \u001b[0mname\u001b[0m\u001b[0;34m)\u001b[0m\u001b[0;34m\u001b[0m\u001b[0;34m\u001b[0m\u001b[0m\n\u001b[0m\u001b[1;32m   6300\u001b[0m \u001b[0;34m\u001b[0m\u001b[0m\n\u001b[1;32m   6301\u001b[0m     \u001b[0;34m@\u001b[0m\u001b[0mfinal\u001b[0m\u001b[0;34m\u001b[0m\u001b[0;34m\u001b[0m\u001b[0m\n",
            "\u001b[0;31mAttributeError\u001b[0m: 'DataFrame' object has no attribute 'append'"
          ]
        }
      ]
    },
    {
      "cell_type": "code",
      "source": [
        "movies"
      ],
      "metadata": {
        "colab": {
          "base_uri": "https://localhost:8080/",
          "height": 701
        },
        "id": "VtvPvo5maHub",
        "outputId": "b9f4e0aa-daa9-4e60-c925-7e71672b845b"
      },
      "id": "VtvPvo5maHub",
      "execution_count": 84,
      "outputs": [
        {
          "output_type": "execute_result",
          "data": {
            "text/plain": [
              "      movieId                                      title  \\\n",
              "0           1                           Toy Story (1995)   \n",
              "1           2                             Jumanji (1995)   \n",
              "2           3                    Grumpier Old Men (1995)   \n",
              "3           4                   Waiting to Exhale (1995)   \n",
              "4           5         Father of the Bride Part II (1995)   \n",
              "...       ...                                        ...   \n",
              "9737   193581  Black Butler: Book of the Atlantic (2017)   \n",
              "9738   193583               No Game No Life: Zero (2017)   \n",
              "9739   193585                               Flint (2017)   \n",
              "9740   193587        Bungo Stray Dogs: Dead Apple (2018)   \n",
              "9741   193609        Andrew Dice Clay: Dice Rules (1991)   \n",
              "\n",
              "                                           genres  \n",
              "0     Adventure|Animation|Children|Comedy|Fantasy  \n",
              "1                      Adventure|Children|Fantasy  \n",
              "2                                  Comedy|Romance  \n",
              "3                            Comedy|Drama|Romance  \n",
              "4                                          Comedy  \n",
              "...                                           ...  \n",
              "9737              Action|Animation|Comedy|Fantasy  \n",
              "9738                     Animation|Comedy|Fantasy  \n",
              "9739                                        Drama  \n",
              "9740                             Action|Animation  \n",
              "9741                                       Comedy  \n",
              "\n",
              "[9742 rows x 3 columns]"
            ],
            "text/html": [
              "\n",
              "  <div id=\"df-9649ff13-9728-4891-bcbb-21cbbf61d086\" class=\"colab-df-container\">\n",
              "    <div>\n",
              "<style scoped>\n",
              "    .dataframe tbody tr th:only-of-type {\n",
              "        vertical-align: middle;\n",
              "    }\n",
              "\n",
              "    .dataframe tbody tr th {\n",
              "        vertical-align: top;\n",
              "    }\n",
              "\n",
              "    .dataframe thead th {\n",
              "        text-align: right;\n",
              "    }\n",
              "</style>\n",
              "<table border=\"1\" class=\"dataframe\">\n",
              "  <thead>\n",
              "    <tr style=\"text-align: right;\">\n",
              "      <th></th>\n",
              "      <th>movieId</th>\n",
              "      <th>title</th>\n",
              "      <th>genres</th>\n",
              "    </tr>\n",
              "  </thead>\n",
              "  <tbody>\n",
              "    <tr>\n",
              "      <th>0</th>\n",
              "      <td>1</td>\n",
              "      <td>Toy Story (1995)</td>\n",
              "      <td>Adventure|Animation|Children|Comedy|Fantasy</td>\n",
              "    </tr>\n",
              "    <tr>\n",
              "      <th>1</th>\n",
              "      <td>2</td>\n",
              "      <td>Jumanji (1995)</td>\n",
              "      <td>Adventure|Children|Fantasy</td>\n",
              "    </tr>\n",
              "    <tr>\n",
              "      <th>2</th>\n",
              "      <td>3</td>\n",
              "      <td>Grumpier Old Men (1995)</td>\n",
              "      <td>Comedy|Romance</td>\n",
              "    </tr>\n",
              "    <tr>\n",
              "      <th>3</th>\n",
              "      <td>4</td>\n",
              "      <td>Waiting to Exhale (1995)</td>\n",
              "      <td>Comedy|Drama|Romance</td>\n",
              "    </tr>\n",
              "    <tr>\n",
              "      <th>4</th>\n",
              "      <td>5</td>\n",
              "      <td>Father of the Bride Part II (1995)</td>\n",
              "      <td>Comedy</td>\n",
              "    </tr>\n",
              "    <tr>\n",
              "      <th>...</th>\n",
              "      <td>...</td>\n",
              "      <td>...</td>\n",
              "      <td>...</td>\n",
              "    </tr>\n",
              "    <tr>\n",
              "      <th>9737</th>\n",
              "      <td>193581</td>\n",
              "      <td>Black Butler: Book of the Atlantic (2017)</td>\n",
              "      <td>Action|Animation|Comedy|Fantasy</td>\n",
              "    </tr>\n",
              "    <tr>\n",
              "      <th>9738</th>\n",
              "      <td>193583</td>\n",
              "      <td>No Game No Life: Zero (2017)</td>\n",
              "      <td>Animation|Comedy|Fantasy</td>\n",
              "    </tr>\n",
              "    <tr>\n",
              "      <th>9739</th>\n",
              "      <td>193585</td>\n",
              "      <td>Flint (2017)</td>\n",
              "      <td>Drama</td>\n",
              "    </tr>\n",
              "    <tr>\n",
              "      <th>9740</th>\n",
              "      <td>193587</td>\n",
              "      <td>Bungo Stray Dogs: Dead Apple (2018)</td>\n",
              "      <td>Action|Animation</td>\n",
              "    </tr>\n",
              "    <tr>\n",
              "      <th>9741</th>\n",
              "      <td>193609</td>\n",
              "      <td>Andrew Dice Clay: Dice Rules (1991)</td>\n",
              "      <td>Comedy</td>\n",
              "    </tr>\n",
              "  </tbody>\n",
              "</table>\n",
              "<p>9742 rows × 3 columns</p>\n",
              "</div>\n",
              "    <div class=\"colab-df-buttons\">\n",
              "\n",
              "  <div class=\"colab-df-container\">\n",
              "    <button class=\"colab-df-convert\" onclick=\"convertToInteractive('df-9649ff13-9728-4891-bcbb-21cbbf61d086')\"\n",
              "            title=\"Convert this dataframe to an interactive table.\"\n",
              "            style=\"display:none;\">\n",
              "\n",
              "  <svg xmlns=\"http://www.w3.org/2000/svg\" height=\"24px\" viewBox=\"0 -960 960 960\">\n",
              "    <path d=\"M120-120v-720h720v720H120Zm60-500h600v-160H180v160Zm220 220h160v-160H400v160Zm0 220h160v-160H400v160ZM180-400h160v-160H180v160Zm440 0h160v-160H620v160ZM180-180h160v-160H180v160Zm440 0h160v-160H620v160Z\"/>\n",
              "  </svg>\n",
              "    </button>\n",
              "\n",
              "  <style>\n",
              "    .colab-df-container {\n",
              "      display:flex;\n",
              "      gap: 12px;\n",
              "    }\n",
              "\n",
              "    .colab-df-convert {\n",
              "      background-color: #E8F0FE;\n",
              "      border: none;\n",
              "      border-radius: 50%;\n",
              "      cursor: pointer;\n",
              "      display: none;\n",
              "      fill: #1967D2;\n",
              "      height: 32px;\n",
              "      padding: 0 0 0 0;\n",
              "      width: 32px;\n",
              "    }\n",
              "\n",
              "    .colab-df-convert:hover {\n",
              "      background-color: #E2EBFA;\n",
              "      box-shadow: 0px 1px 2px rgba(60, 64, 67, 0.3), 0px 1px 3px 1px rgba(60, 64, 67, 0.15);\n",
              "      fill: #174EA6;\n",
              "    }\n",
              "\n",
              "    .colab-df-buttons div {\n",
              "      margin-bottom: 4px;\n",
              "    }\n",
              "\n",
              "    [theme=dark] .colab-df-convert {\n",
              "      background-color: #3B4455;\n",
              "      fill: #D2E3FC;\n",
              "    }\n",
              "\n",
              "    [theme=dark] .colab-df-convert:hover {\n",
              "      background-color: #434B5C;\n",
              "      box-shadow: 0px 1px 3px 1px rgba(0, 0, 0, 0.15);\n",
              "      filter: drop-shadow(0px 1px 2px rgba(0, 0, 0, 0.3));\n",
              "      fill: #FFFFFF;\n",
              "    }\n",
              "  </style>\n",
              "\n",
              "    <script>\n",
              "      const buttonEl =\n",
              "        document.querySelector('#df-9649ff13-9728-4891-bcbb-21cbbf61d086 button.colab-df-convert');\n",
              "      buttonEl.style.display =\n",
              "        google.colab.kernel.accessAllowed ? 'block' : 'none';\n",
              "\n",
              "      async function convertToInteractive(key) {\n",
              "        const element = document.querySelector('#df-9649ff13-9728-4891-bcbb-21cbbf61d086');\n",
              "        const dataTable =\n",
              "          await google.colab.kernel.invokeFunction('convertToInteractive',\n",
              "                                                    [key], {});\n",
              "        if (!dataTable) return;\n",
              "\n",
              "        const docLinkHtml = 'Like what you see? Visit the ' +\n",
              "          '<a target=\"_blank\" href=https://colab.research.google.com/notebooks/data_table.ipynb>data table notebook</a>'\n",
              "          + ' to learn more about interactive tables.';\n",
              "        element.innerHTML = '';\n",
              "        dataTable['output_type'] = 'display_data';\n",
              "        await google.colab.output.renderOutput(dataTable, element);\n",
              "        const docLink = document.createElement('div');\n",
              "        docLink.innerHTML = docLinkHtml;\n",
              "        element.appendChild(docLink);\n",
              "      }\n",
              "    </script>\n",
              "  </div>\n",
              "\n",
              "\n",
              "<div id=\"df-0efcea7d-583f-41ed-b7a3-ff8215113fe5\">\n",
              "  <button class=\"colab-df-quickchart\" onclick=\"quickchart('df-0efcea7d-583f-41ed-b7a3-ff8215113fe5')\"\n",
              "            title=\"Suggest charts\"\n",
              "            style=\"display:none;\">\n",
              "\n",
              "<svg xmlns=\"http://www.w3.org/2000/svg\" height=\"24px\"viewBox=\"0 0 24 24\"\n",
              "     width=\"24px\">\n",
              "    <g>\n",
              "        <path d=\"M19 3H5c-1.1 0-2 .9-2 2v14c0 1.1.9 2 2 2h14c1.1 0 2-.9 2-2V5c0-1.1-.9-2-2-2zM9 17H7v-7h2v7zm4 0h-2V7h2v10zm4 0h-2v-4h2v4z\"/>\n",
              "    </g>\n",
              "</svg>\n",
              "  </button>\n",
              "\n",
              "<style>\n",
              "  .colab-df-quickchart {\n",
              "      --bg-color: #E8F0FE;\n",
              "      --fill-color: #1967D2;\n",
              "      --hover-bg-color: #E2EBFA;\n",
              "      --hover-fill-color: #174EA6;\n",
              "      --disabled-fill-color: #AAA;\n",
              "      --disabled-bg-color: #DDD;\n",
              "  }\n",
              "\n",
              "  [theme=dark] .colab-df-quickchart {\n",
              "      --bg-color: #3B4455;\n",
              "      --fill-color: #D2E3FC;\n",
              "      --hover-bg-color: #434B5C;\n",
              "      --hover-fill-color: #FFFFFF;\n",
              "      --disabled-bg-color: #3B4455;\n",
              "      --disabled-fill-color: #666;\n",
              "  }\n",
              "\n",
              "  .colab-df-quickchart {\n",
              "    background-color: var(--bg-color);\n",
              "    border: none;\n",
              "    border-radius: 50%;\n",
              "    cursor: pointer;\n",
              "    display: none;\n",
              "    fill: var(--fill-color);\n",
              "    height: 32px;\n",
              "    padding: 0;\n",
              "    width: 32px;\n",
              "  }\n",
              "\n",
              "  .colab-df-quickchart:hover {\n",
              "    background-color: var(--hover-bg-color);\n",
              "    box-shadow: 0 1px 2px rgba(60, 64, 67, 0.3), 0 1px 3px 1px rgba(60, 64, 67, 0.15);\n",
              "    fill: var(--button-hover-fill-color);\n",
              "  }\n",
              "\n",
              "  .colab-df-quickchart-complete:disabled,\n",
              "  .colab-df-quickchart-complete:disabled:hover {\n",
              "    background-color: var(--disabled-bg-color);\n",
              "    fill: var(--disabled-fill-color);\n",
              "    box-shadow: none;\n",
              "  }\n",
              "\n",
              "  .colab-df-spinner {\n",
              "    border: 2px solid var(--fill-color);\n",
              "    border-color: transparent;\n",
              "    border-bottom-color: var(--fill-color);\n",
              "    animation:\n",
              "      spin 1s steps(1) infinite;\n",
              "  }\n",
              "\n",
              "  @keyframes spin {\n",
              "    0% {\n",
              "      border-color: transparent;\n",
              "      border-bottom-color: var(--fill-color);\n",
              "      border-left-color: var(--fill-color);\n",
              "    }\n",
              "    20% {\n",
              "      border-color: transparent;\n",
              "      border-left-color: var(--fill-color);\n",
              "      border-top-color: var(--fill-color);\n",
              "    }\n",
              "    30% {\n",
              "      border-color: transparent;\n",
              "      border-left-color: var(--fill-color);\n",
              "      border-top-color: var(--fill-color);\n",
              "      border-right-color: var(--fill-color);\n",
              "    }\n",
              "    40% {\n",
              "      border-color: transparent;\n",
              "      border-right-color: var(--fill-color);\n",
              "      border-top-color: var(--fill-color);\n",
              "    }\n",
              "    60% {\n",
              "      border-color: transparent;\n",
              "      border-right-color: var(--fill-color);\n",
              "    }\n",
              "    80% {\n",
              "      border-color: transparent;\n",
              "      border-right-color: var(--fill-color);\n",
              "      border-bottom-color: var(--fill-color);\n",
              "    }\n",
              "    90% {\n",
              "      border-color: transparent;\n",
              "      border-bottom-color: var(--fill-color);\n",
              "    }\n",
              "  }\n",
              "</style>\n",
              "\n",
              "  <script>\n",
              "    async function quickchart(key) {\n",
              "      const quickchartButtonEl =\n",
              "        document.querySelector('#' + key + ' button');\n",
              "      quickchartButtonEl.disabled = true;  // To prevent multiple clicks.\n",
              "      quickchartButtonEl.classList.add('colab-df-spinner');\n",
              "      try {\n",
              "        const charts = await google.colab.kernel.invokeFunction(\n",
              "            'suggestCharts', [key], {});\n",
              "      } catch (error) {\n",
              "        console.error('Error during call to suggestCharts:', error);\n",
              "      }\n",
              "      quickchartButtonEl.classList.remove('colab-df-spinner');\n",
              "      quickchartButtonEl.classList.add('colab-df-quickchart-complete');\n",
              "    }\n",
              "    (() => {\n",
              "      let quickchartButtonEl =\n",
              "        document.querySelector('#df-0efcea7d-583f-41ed-b7a3-ff8215113fe5 button');\n",
              "      quickchartButtonEl.style.display =\n",
              "        google.colab.kernel.accessAllowed ? 'block' : 'none';\n",
              "    })();\n",
              "  </script>\n",
              "</div>\n",
              "\n",
              "  <div id=\"id_f6985c53-bf77-45d7-a785-9bbc1692ec8f\">\n",
              "    <style>\n",
              "      .colab-df-generate {\n",
              "        background-color: #E8F0FE;\n",
              "        border: none;\n",
              "        border-radius: 50%;\n",
              "        cursor: pointer;\n",
              "        display: none;\n",
              "        fill: #1967D2;\n",
              "        height: 32px;\n",
              "        padding: 0 0 0 0;\n",
              "        width: 32px;\n",
              "      }\n",
              "\n",
              "      .colab-df-generate:hover {\n",
              "        background-color: #E2EBFA;\n",
              "        box-shadow: 0px 1px 2px rgba(60, 64, 67, 0.3), 0px 1px 3px 1px rgba(60, 64, 67, 0.15);\n",
              "        fill: #174EA6;\n",
              "      }\n",
              "\n",
              "      [theme=dark] .colab-df-generate {\n",
              "        background-color: #3B4455;\n",
              "        fill: #D2E3FC;\n",
              "      }\n",
              "\n",
              "      [theme=dark] .colab-df-generate:hover {\n",
              "        background-color: #434B5C;\n",
              "        box-shadow: 0px 1px 3px 1px rgba(0, 0, 0, 0.15);\n",
              "        filter: drop-shadow(0px 1px 2px rgba(0, 0, 0, 0.3));\n",
              "        fill: #FFFFFF;\n",
              "      }\n",
              "    </style>\n",
              "    <button class=\"colab-df-generate\" onclick=\"generateWithVariable('movies')\"\n",
              "            title=\"Generate code using this dataframe.\"\n",
              "            style=\"display:none;\">\n",
              "\n",
              "  <svg xmlns=\"http://www.w3.org/2000/svg\" height=\"24px\"viewBox=\"0 0 24 24\"\n",
              "       width=\"24px\">\n",
              "    <path d=\"M7,19H8.4L18.45,9,17,7.55,7,17.6ZM5,21V16.75L18.45,3.32a2,2,0,0,1,2.83,0l1.4,1.43a1.91,1.91,0,0,1,.58,1.4,1.91,1.91,0,0,1-.58,1.4L9.25,21ZM18.45,9,17,7.55Zm-12,3A5.31,5.31,0,0,0,4.9,8.1,5.31,5.31,0,0,0,1,6.5,5.31,5.31,0,0,0,4.9,4.9,5.31,5.31,0,0,0,6.5,1,5.31,5.31,0,0,0,8.1,4.9,5.31,5.31,0,0,0,12,6.5,5.46,5.46,0,0,0,6.5,12Z\"/>\n",
              "  </svg>\n",
              "    </button>\n",
              "    <script>\n",
              "      (() => {\n",
              "      const buttonEl =\n",
              "        document.querySelector('#id_f6985c53-bf77-45d7-a785-9bbc1692ec8f button.colab-df-generate');\n",
              "      buttonEl.style.display =\n",
              "        google.colab.kernel.accessAllowed ? 'block' : 'none';\n",
              "\n",
              "      buttonEl.onclick = () => {\n",
              "        google.colab.notebook.generateWithVariable('movies');\n",
              "      }\n",
              "      })();\n",
              "    </script>\n",
              "  </div>\n",
              "\n",
              "    </div>\n",
              "  </div>\n"
            ],
            "application/vnd.google.colaboratory.intrinsic+json": {
              "type": "dataframe",
              "variable_name": "movies",
              "summary": "{\n  \"name\": \"movies\",\n  \"rows\": 9742,\n  \"fields\": [\n    {\n      \"column\": \"movieId\",\n      \"properties\": {\n        \"dtype\": \"number\",\n        \"std\": 52160,\n        \"min\": 1,\n        \"max\": 193609,\n        \"num_unique_values\": 9742,\n        \"samples\": [\n          45635,\n          1373,\n          7325\n        ],\n        \"semantic_type\": \"\",\n        \"description\": \"\"\n      }\n    },\n    {\n      \"column\": \"title\",\n      \"properties\": {\n        \"dtype\": \"string\",\n        \"num_unique_values\": 9737,\n        \"samples\": [\n          \"Teenage Mutant Ninja Turtles (2014)\",\n          \"America's Sweethearts (2001)\",\n          \"Cast Away (2000)\"\n        ],\n        \"semantic_type\": \"\",\n        \"description\": \"\"\n      }\n    },\n    {\n      \"column\": \"genres\",\n      \"properties\": {\n        \"dtype\": \"category\",\n        \"num_unique_values\": 951,\n        \"samples\": [\n          \"Crime|Mystery|Romance|Thriller\",\n          \"Action|Adventure|Comedy|Western\",\n          \"Crime|Drama|Musical\"\n        ],\n        \"semantic_type\": \"\",\n        \"description\": \"\"\n      }\n    }\n  ]\n}"
            }
          },
          "metadata": {},
          "execution_count": 84
        }
      ]
    },
    {
      "cell_type": "markdown",
      "id": "e1864122",
      "metadata": {
        "id": "e1864122"
      },
      "source": [
        "Well Done! You are done with this lab too!"
      ]
    },
    {
      "cell_type": "markdown",
      "id": "ce7b9481",
      "metadata": {
        "id": "ce7b9481"
      },
      "source": [
        "Refrences:\n",
        "\n",
        "1. https://www.statlearning.com/\n",
        "\n",
        "2. https://beckernick.github.io/datascience/\n",
        "\n",
        "3. http://grouplens.org/datasets/movielens/\n"
      ]
    },
    {
      "cell_type": "code",
      "execution_count": null,
      "id": "e2a5f458",
      "metadata": {
        "colab": {
          "base_uri": "https://localhost:8080/"
        },
        "id": "e2a5f458",
        "outputId": "f4576015-c72a-408b-a6c5-fa32f5aa8da9"
      },
      "outputs": [
        {
          "output_type": "stream",
          "name": "stdout",
          "text": [
            "User 400 has already rated 43 movies.\n",
            "Recommending the highest 3 predicted ratings movies not already rated.\n"
          ]
        }
      ],
      "source": []
    },
    {
      "cell_type": "code",
      "source": [],
      "metadata": {
        "id": "nALvDWlnWrj8"
      },
      "id": "nALvDWlnWrj8",
      "execution_count": null,
      "outputs": []
    }
  ],
  "metadata": {
    "kernelspec": {
      "display_name": "Python 3",
      "language": "python",
      "name": "python3"
    },
    "language_info": {
      "codemirror_mode": {
        "name": "ipython",
        "version": 3
      },
      "file_extension": ".py",
      "mimetype": "text/x-python",
      "name": "python",
      "nbconvert_exporter": "python",
      "pygments_lexer": "ipython3",
      "version": "3.8.5"
    },
    "colab": {
      "provenance": []
    }
  },
  "nbformat": 4,
  "nbformat_minor": 5
}