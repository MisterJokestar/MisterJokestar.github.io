{
  "cells": [
    {
      "cell_type": "markdown",
      "id": "6d3bb7c7",
      "metadata": {
        "id": "6d3bb7c7"
      },
      "source": [
        "# Recomender System\n",
        "Streaming services like Netflix and Amazon use past viewing data from a customer and others to suggest new content. For example, Netflix once asked users to rate movies on a scale of $1–5$, creating a large matrix with ratings from around 480,189 customers for 17,770 movies. Since most users only watched about 200 movies, 99% of the matrix was empty.\n",
        "\n",
        "To recommend movies, Netflix needed to fill in the missing ratings. The idea is that users who have watched similar movies may have similar preferences, allowing the system to predict ratings for movies a user hasn't seen, based on ratings from similar customers.\n",
        "\n",
        "In this lab, we use an equivalent version of PCA for Movie Recommendations (for more information, please refer to the related videos posted on Moodle for this week).\n",
        "\n",
        "Instructions:\n",
        "\n",
        "**Step 1:** Data Gathering\n",
        "\n",
        "**Step 2:** Data Preprocesing\n",
        "\n",
        "**Step 3:** Apply SVD\n",
        "\n",
        "**Step 4:** Writing a function to recommend movies for any user."
      ]
    },
    {
      "cell_type": "markdown",
      "id": "60fb3f98",
      "metadata": {
        "id": "60fb3f98"
      },
      "source": [
        "## Step 1: Data Gathering:"
      ]
    },
    {
      "cell_type": "markdown",
      "source": [
        "1. Start by importing the necessary Python libraries, such as Numpy and Pandas.\n",
        "\n",
        "2. Next, visit the provided URL: http://grouplens.org/datasets/movielens/. Under the \"recommended for education and development\" section, locate and download the file named `ml-latest-small.zip` (which has a size of 1 MB).\n",
        "\n",
        "3. After downloading, import the CSV files contained within the zip file.\n"
      ],
      "metadata": {
        "id": "PsNj1tXUyKnM"
      },
      "id": "PsNj1tXUyKnM"
    },
    {
      "cell_type": "code",
      "execution_count": 2,
      "id": "65131658",
      "metadata": {
        "id": "65131658"
      },
      "outputs": [],
      "source": [
        "import numpy as np\n",
        "import pandas as pd\n",
        "\n",
        "# read the movies.csv\n",
        "movies = pd.read_csv(\"movies.csv\")\n",
        "# read the ratings.csv\n",
        "ratings = pd.read_csv(\"ratings.csv\")"
      ]
    },
    {
      "cell_type": "markdown",
      "source": [
        "##Step 2: Data Preprocessing:\n"
      ],
      "metadata": {
        "id": "BjMbcdXgBKBN"
      },
      "id": "BjMbcdXgBKBN"
    },
    {
      "cell_type": "markdown",
      "id": "ccd06673",
      "metadata": {
        "id": "ccd06673"
      },
      "source": [
        "\n",
        "1. Begin by examining the first few rows of your data to familiarize yourself with its structure.\n",
        "\n",
        "2. Transform the data into a user-item rating matrix, where each row represents a user, each column represents a movie, and the values in the matrix are the ratings given by the users to the movies. You can achieve this using the `.pivot(index = 'userId', columns ='movieId', values = 'rating')` function.\n",
        "\n",
        "\n",
        "3. print a few rows to see if it is in the suitable format. You will probably see a lot of 'NaN' (not a number) values. To apply SVD, we need to have numerical values. Common treatment to handle these 'NaN' values include replacing them with zero or the average rating for each row or column. Discuss which one do you think is better. Use `.fillna()`\n",
        "\n",
        "4. Normalization step: De-mean the data (normalize by each users mean) and convert it from a dataframe to a numpy array.\n",
        "\n",
        "\n"
      ]
    },
    {
      "cell_type": "code",
      "execution_count": 3,
      "id": "6248a2fd",
      "metadata": {
        "id": "6248a2fd",
        "colab": {
          "base_uri": "https://localhost:8080/"
        },
        "outputId": "3bd4d76e-bd52-4f5c-afef-a58f59d709b4"
      },
      "outputs": [
        {
          "output_type": "stream",
          "name": "stdout",
          "text": [
            "   movieId                               title  \\\n",
            "0        1                    Toy Story (1995)   \n",
            "1        2                      Jumanji (1995)   \n",
            "2        3             Grumpier Old Men (1995)   \n",
            "3        4            Waiting to Exhale (1995)   \n",
            "4        5  Father of the Bride Part II (1995)   \n",
            "\n",
            "                                        genres  \n",
            "0  Adventure|Animation|Children|Comedy|Fantasy  \n",
            "1                   Adventure|Children|Fantasy  \n",
            "2                               Comedy|Romance  \n",
            "3                         Comedy|Drama|Romance  \n",
            "4                                       Comedy  \n",
            "<class 'pandas.core.frame.DataFrame'>\n",
            "RangeIndex: 9742 entries, 0 to 9741\n",
            "Data columns (total 3 columns):\n",
            " #   Column   Non-Null Count  Dtype \n",
            "---  ------   --------------  ----- \n",
            " 0   movieId  9742 non-null   int64 \n",
            " 1   title    9742 non-null   object\n",
            " 2   genres   9742 non-null   object\n",
            "dtypes: int64(1), object(2)\n",
            "memory usage: 228.5+ KB\n",
            "None\n"
          ]
        }
      ],
      "source": [
        "# exploring movies\n",
        "print(movies.head())\n",
        "print(movies.info())"
      ]
    },
    {
      "cell_type": "code",
      "source": [
        "# exploring ratings\n",
        "print(ratings.head())\n",
        "print(ratings.info())"
      ],
      "metadata": {
        "id": "gAHFY8uKyq2o",
        "colab": {
          "base_uri": "https://localhost:8080/"
        },
        "outputId": "e617edb9-ba2f-44ca-bffb-5ac29888c25c"
      },
      "id": "gAHFY8uKyq2o",
      "execution_count": 4,
      "outputs": [
        {
          "output_type": "stream",
          "name": "stdout",
          "text": [
            "   userId  movieId  rating  timestamp\n",
            "0       1        1     4.0  964982703\n",
            "1       1        3     4.0  964981247\n",
            "2       1        6     4.0  964982224\n",
            "3       1       47     5.0  964983815\n",
            "4       1       50     5.0  964982931\n",
            "<class 'pandas.core.frame.DataFrame'>\n",
            "RangeIndex: 100836 entries, 0 to 100835\n",
            "Data columns (total 4 columns):\n",
            " #   Column     Non-Null Count   Dtype  \n",
            "---  ------     --------------   -----  \n",
            " 0   userId     100836 non-null  int64  \n",
            " 1   movieId    100836 non-null  int64  \n",
            " 2   rating     100836 non-null  float64\n",
            " 3   timestamp  100836 non-null  int64  \n",
            "dtypes: float64(1), int64(3)\n",
            "memory usage: 3.1 MB\n",
            "None\n"
          ]
        }
      ]
    },
    {
      "cell_type": "code",
      "source": [
        "# Transform the data into a user-item rating matrix\n",
        "user_item_rating_matrix = ratings.pivot(index = 'userId', columns ='movieId', values = 'rating')"
      ],
      "metadata": {
        "id": "avqQGGTWAYpt"
      },
      "id": "avqQGGTWAYpt",
      "execution_count": 5,
      "outputs": []
    },
    {
      "cell_type": "code",
      "source": [
        "# explore the outcome\n",
        "print(user_item_rating_matrix.head())"
      ],
      "metadata": {
        "colab": {
          "base_uri": "https://localhost:8080/"
        },
        "id": "FTcznwPNCIqg",
        "outputId": "75db585e-8ae3-46b1-dc12-6e89519516e7"
      },
      "id": "FTcznwPNCIqg",
      "execution_count": 6,
      "outputs": [
        {
          "output_type": "stream",
          "name": "stdout",
          "text": [
            "movieId  1       2       3       4       5       6       7       8       \\\n",
            "userId                                                                    \n",
            "1           4.0     NaN     4.0     NaN     NaN     4.0     NaN     NaN   \n",
            "2           NaN     NaN     NaN     NaN     NaN     NaN     NaN     NaN   \n",
            "3           NaN     NaN     NaN     NaN     NaN     NaN     NaN     NaN   \n",
            "4           NaN     NaN     NaN     NaN     NaN     NaN     NaN     NaN   \n",
            "5           4.0     NaN     NaN     NaN     NaN     NaN     NaN     NaN   \n",
            "\n",
            "movieId  9       10      ...  193565  193567  193571  193573  193579  193581  \\\n",
            "userId                   ...                                                   \n",
            "1           NaN     NaN  ...     NaN     NaN     NaN     NaN     NaN     NaN   \n",
            "2           NaN     NaN  ...     NaN     NaN     NaN     NaN     NaN     NaN   \n",
            "3           NaN     NaN  ...     NaN     NaN     NaN     NaN     NaN     NaN   \n",
            "4           NaN     NaN  ...     NaN     NaN     NaN     NaN     NaN     NaN   \n",
            "5           NaN     NaN  ...     NaN     NaN     NaN     NaN     NaN     NaN   \n",
            "\n",
            "movieId  193583  193585  193587  193609  \n",
            "userId                                   \n",
            "1           NaN     NaN     NaN     NaN  \n",
            "2           NaN     NaN     NaN     NaN  \n",
            "3           NaN     NaN     NaN     NaN  \n",
            "4           NaN     NaN     NaN     NaN  \n",
            "5           NaN     NaN     NaN     NaN  \n",
            "\n",
            "[5 rows x 9724 columns]\n"
          ]
        }
      ]
    },
    {
      "cell_type": "code",
      "source": [
        "#handeling missing info using the average\n",
        "user_item_rating_matrix.fillna(user_item_rating_matrix.mean(), inplace=True)"
      ],
      "metadata": {
        "id": "4uzrTTu1CPS1"
      },
      "id": "4uzrTTu1CPS1",
      "execution_count": 7,
      "outputs": []
    },
    {
      "cell_type": "code",
      "source": [
        "#print outcome\n",
        "print(user_item_rating_matrix.head())"
      ],
      "metadata": {
        "id": "SAxbZuN2CVvV",
        "colab": {
          "base_uri": "https://localhost:8080/"
        },
        "outputId": "1a396227-98e8-403b-94a9-83a73e94ce50"
      },
      "id": "SAxbZuN2CVvV",
      "execution_count": 8,
      "outputs": [
        {
          "output_type": "stream",
          "name": "stdout",
          "text": [
            "movieId   1         2         3         4         5         6         7       \\\n",
            "userId                                                                         \n",
            "1        4.00000  3.431818  4.000000  2.357143  3.071429  4.000000  3.185185   \n",
            "2        3.92093  3.431818  3.259615  2.357143  3.071429  3.946078  3.185185   \n",
            "3        3.92093  3.431818  3.259615  2.357143  3.071429  3.946078  3.185185   \n",
            "4        3.92093  3.431818  3.259615  2.357143  3.071429  3.946078  3.185185   \n",
            "5        4.00000  3.431818  3.259615  2.357143  3.071429  3.946078  3.185185   \n",
            "\n",
            "movieId  8       9         10      ...  193565  193567  193571  193573  \\\n",
            "userId                             ...                                   \n",
            "1         2.875   3.125  3.496212  ...     3.5     3.0     4.0     4.0   \n",
            "2         2.875   3.125  3.496212  ...     3.5     3.0     4.0     4.0   \n",
            "3         2.875   3.125  3.496212  ...     3.5     3.0     4.0     4.0   \n",
            "4         2.875   3.125  3.496212  ...     3.5     3.0     4.0     4.0   \n",
            "5         2.875   3.125  3.496212  ...     3.5     3.0     4.0     4.0   \n",
            "\n",
            "movieId  193579  193581  193583  193585  193587  193609  \n",
            "userId                                                   \n",
            "1           3.5     4.0     3.5     3.5     3.5     4.0  \n",
            "2           3.5     4.0     3.5     3.5     3.5     4.0  \n",
            "3           3.5     4.0     3.5     3.5     3.5     4.0  \n",
            "4           3.5     4.0     3.5     3.5     3.5     4.0  \n",
            "5           3.5     4.0     3.5     3.5     3.5     4.0  \n",
            "\n",
            "[5 rows x 9724 columns]\n"
          ]
        }
      ]
    },
    {
      "cell_type": "code",
      "source": [
        "#Convert the data frame into a matrix (numpy array) using .values\n",
        "values = user_item_rating_matrix.values\n",
        "print(values.shape, values.size)"
      ],
      "metadata": {
        "id": "xGeymlGCD5da",
        "colab": {
          "base_uri": "https://localhost:8080/"
        },
        "outputId": "cd652b7c-b901-4ad6-e8d3-242a2bb07247"
      },
      "id": "xGeymlGCD5da",
      "execution_count": 9,
      "outputs": [
        {
          "output_type": "stream",
          "name": "stdout",
          "text": [
            "(610, 9724) 5931640\n"
          ]
        }
      ]
    },
    {
      "cell_type": "code",
      "source": [
        "#de-mean data: data - average of data\n",
        "mean = np.mean(values, axis=1)\n",
        "# (use reshape.(-1,1)to align the dimensions properly)\n",
        "values_reshaped = values - mean.reshape(-1,1)"
      ],
      "metadata": {
        "id": "dWKnnEiNFIac"
      },
      "id": "dWKnnEiNFIac",
      "execution_count": 11,
      "outputs": []
    },
    {
      "cell_type": "code",
      "source": [
        "#print the outcome\n",
        "print(values_reshaped.shape)\n",
        "print(values_reshaped)"
      ],
      "metadata": {
        "id": "BCJRPfP5F84I",
        "colab": {
          "base_uri": "https://localhost:8080/"
        },
        "outputId": "8975c1c0-78f0-4341-f48b-a1024b6b11e7"
      },
      "id": "BCJRPfP5F84I",
      "execution_count": 12,
      "outputs": [
        {
          "output_type": "stream",
          "name": "stdout",
          "text": [
            "(610, 9724)\n",
            "[[ 0.71824662  0.1500648   0.71824662 ...  0.21824662  0.21824662\n",
            "   0.71824662]\n",
            " [ 0.65846657  0.16935452 -0.00284828 ...  0.23753633  0.23753633\n",
            "   0.73753633]\n",
            " [ 0.66309081  0.17397876  0.00177596 ...  0.24216058  0.24216058\n",
            "   0.74216058]\n",
            " ...\n",
            " [-0.74956362 -1.24956362 -1.24956362 ...  0.25043638  0.25043638\n",
            "   0.75043638]\n",
            " [-0.26159726  0.17022093 -0.00198187 ...  0.23840274  0.23840274\n",
            "   0.73840274]\n",
            " [ 1.7069987   0.13881688 -0.03338592 ...  0.2069987   0.2069987\n",
            "   0.7069987 ]]\n"
          ]
        }
      ]
    },
    {
      "cell_type": "markdown",
      "id": "bb71f35a",
      "metadata": {
        "id": "bb71f35a"
      },
      "source": [
        "## Step 3: Finding the Best Rank k:\n",
        "\n"
      ]
    },
    {
      "cell_type": "markdown",
      "source": [
        "The best rank $k$ is a matrix with prediction values; discuss this.\n",
        "\n",
        "1. Use k = 50. Determining the optimal rank 'k' for movie recomendation is another problem which can be the topic of your final project.\n",
        "\n",
        "\n",
        "3. From this matrix, construct the corresponding dataframe using: pd.DataFrame(prediction matrix, columns = original_dataframe.columns). This dataFrame will contain predicted ratings for movies by different users. Each row represents a user, and each column represents a movie, with the entries containing predicted ratings."
      ],
      "metadata": {
        "id": "QKa6LzrxGITJ"
      },
      "id": "QKa6LzrxGITJ"
    },
    {
      "cell_type": "code",
      "execution_count": 13,
      "id": "a05fb70c",
      "metadata": {
        "id": "a05fb70c"
      },
      "outputs": [],
      "source": [
        "# use TruncatedSVD to perform dimensionality reduction with svd\n",
        "from sklearn.decomposition import TruncatedSVD\n",
        "\n",
        "svd = TruncatedSVD(n_components=50)\n",
        "U = svd.fit_transform(values_reshaped)\n",
        "sigma = svd.singular_values_\n",
        "Vt = svd.components_\n",
        "\n"
      ]
    },
    {
      "cell_type": "code",
      "source": [
        "# print U and its shape\n",
        "print(U.shape)\n",
        "print(U)"
      ],
      "metadata": {
        "id": "WCDliC6CHfgp",
        "colab": {
          "base_uri": "https://localhost:8080/"
        },
        "outputId": "43b01bf0-86eb-4360-a724-8f95347a07c7"
      },
      "id": "WCDliC6CHfgp",
      "execution_count": 14,
      "outputs": [
        {
          "output_type": "stream",
          "name": "stdout",
          "text": [
            "(610, 50)\n",
            "[[-8.62817224e+01  3.24542034e+00  2.48409392e+00 ... -1.30879334e+00\n",
            "  -2.48720643e+00  1.28567640e+00]\n",
            " [-8.57684945e+01 -8.03521280e-02  3.60622164e-02 ... -2.18059926e-01\n",
            "   5.63007943e-02 -1.20421649e-01]\n",
            " [-8.56175212e+01 -7.11654246e-01 -8.47285266e-02 ...  5.07317538e-01\n",
            "   1.02056025e+00 -6.88587854e-01]\n",
            " ...\n",
            " [-8.57666407e+01 -2.52647517e+00 -9.98833873e+00 ... -2.00745034e+00\n",
            "   2.38659049e-01 -2.73231702e+00]\n",
            " [-8.56962863e+01 -4.57895381e-01 -2.99197961e-01 ... -8.22795947e-03\n",
            "  -2.20188752e-01  6.29338830e-02]\n",
            " [-8.67776898e+01  6.12402845e+00 -1.08102231e+00 ... -1.16997711e+00\n",
            "  -1.18126539e+00 -4.32564270e+00]]\n"
          ]
        }
      ]
    },
    {
      "cell_type": "code",
      "source": [
        "# print V.T and its shape\n",
        "print(Vt.shape)\n",
        "print(Vt)"
      ],
      "metadata": {
        "id": "VNouqUeSHpt2",
        "colab": {
          "base_uri": "https://localhost:8080/"
        },
        "outputId": "f6d2ad4b-a96b-4f96-e818-dc6938cfd22b"
      },
      "id": "VNouqUeSHpt2",
      "execution_count": 15,
      "outputs": [
        {
          "output_type": "stream",
          "name": "stdout",
          "text": [
            "(50, 9724)\n",
            "[[-7.68181837e-03 -1.97614783e-03  3.15195011e-05 ... -2.76926894e-03\n",
            "  -2.76926894e-03 -8.59846188e-03]\n",
            " [ 7.51646197e-02  7.14773691e-02  3.98501767e-02 ... -4.76074399e-03\n",
            "  -4.76074399e-03 -5.23082461e-03]\n",
            " [ 2.08885246e-02 -5.13469219e-05  5.22719433e-02 ... -8.72807520e-05\n",
            "  -8.72807520e-05 -5.04671501e-05]\n",
            " ...\n",
            " [ 3.25895268e-02  2.34787367e-02 -2.47062599e-02 ... -1.48228616e-04\n",
            "  -1.48228616e-04 -2.41938639e-04]\n",
            " [-1.37449380e-02  3.87827928e-02  1.17344102e-03 ...  6.20182019e-04\n",
            "   6.20182019e-04  5.23542842e-04]\n",
            " [ 1.21141712e-02  3.99919092e-03 -1.01340250e-02 ...  7.97445646e-05\n",
            "   7.97445646e-05  1.19468224e-04]]\n"
          ]
        }
      ]
    },
    {
      "cell_type": "code",
      "source": [
        "#print sigma and its shape\n",
        "print(sigma.shape)\n",
        "print(sigma)"
      ],
      "metadata": {
        "id": "MWXo4S5nHrDs",
        "colab": {
          "base_uri": "https://localhost:8080/"
        },
        "outputId": "23b7a685-e3ab-4b1b-d362-b251f5f131b3"
      },
      "id": "MWXo4S5nHrDs",
      "execution_count": 16,
      "outputs": [
        {
          "output_type": "stream",
          "name": "stdout",
          "text": [
            "(50,)\n",
            "[2118.4775165    50.98252305   39.59690385   38.87654926   36.2582413\n",
            "   33.79613537   33.30282121   32.49143037   31.33550532   30.97643036\n",
            "   30.32635729   29.45885268   29.33374325   28.59803447   27.53501942\n",
            "   27.35190401   26.87841106   26.42010872   26.27503515   25.69494669\n",
            "   25.4565331    25.14726911   24.96705492   24.51443284   24.34949749\n",
            "   24.05227549   23.82671155   23.52103304   23.34363268   23.26854725\n",
            "   22.93727371   22.82661788   22.51857509   22.04220448   21.8906023\n",
            "   21.86089396   21.68282176   21.57841309   21.31527715   21.28742114\n",
            "   21.06231613   20.854017     20.63330392   20.3758623    20.23238561\n",
            "   20.15139578   19.97599409   19.74648934   19.64196077   19.54632895]\n"
          ]
        }
      ]
    },
    {
      "cell_type": "code",
      "source": [
        "# convert sigma into a diagonal matrix using np.diag\n",
        "sigma_diag = np.diag(sigma)\n",
        "print(sigma_diag.shape)"
      ],
      "metadata": {
        "id": "5J1mwYVQHyVp",
        "colab": {
          "base_uri": "https://localhost:8080/"
        },
        "outputId": "1320a511-ae6a-49f3-c344-9a34e9cd48c7"
      },
      "id": "5J1mwYVQHyVp",
      "execution_count": 17,
      "outputs": [
        {
          "output_type": "stream",
          "name": "stdout",
          "text": [
            "(50, 50)\n"
          ]
        }
      ]
    },
    {
      "cell_type": "code",
      "source": [
        "# Estimate your data by computing U *sigma* V\n",
        "first_array = np.matmul(U, sigma_diag)\n",
        "data = np.matmul(first_array, Vt)"
      ],
      "metadata": {
        "id": "BuEnTsjsIRcx"
      },
      "id": "BuEnTsjsIRcx",
      "execution_count": 18,
      "outputs": []
    },
    {
      "cell_type": "code",
      "source": [
        "# now we can predict rating by adding mean to this estimate\n",
        "data = data + mean.reshape(-1,1)"
      ],
      "metadata": {
        "id": "9UHCtjgpIt0H"
      },
      "id": "9UHCtjgpIt0H",
      "execution_count": 19,
      "outputs": []
    },
    {
      "cell_type": "code",
      "source": [
        "#use pd.DataFrame to construct a dataframe containing ratings\n",
        "prediction = pd.DataFrame(data, columns=user_item_rating_matrix.columns)\n",
        "print(prediction.head)\n",
        "#print a few rows"
      ],
      "metadata": {
        "id": "-BEsXdHMI5r4",
        "colab": {
          "base_uri": "https://localhost:8080/"
        },
        "outputId": "30ac720d-1de9-4bbd-f61d-044e0b0dce35"
      },
      "id": "-BEsXdHMI5r4",
      "execution_count": 20,
      "outputs": [
        {
          "output_type": "stream",
          "name": "stdout",
          "text": [
            "<bound method NDFrame.head of movieId       1           2          3            4           5       \\\n",
            "0        1414.773992  374.225551  15.310791 -1926.114336 -397.088784   \n",
            "1        1398.694721  362.332572  -3.181601 -1914.510265 -400.619830   \n",
            "2        1396.258113  360.455420  -2.793815 -1911.593252 -400.503659   \n",
            "3        1390.252330  359.580176  -3.861065 -1911.641998 -399.129552   \n",
            "4        1399.874585  360.697728  -5.265868 -1914.603614 -400.904435   \n",
            "..               ...         ...        ...          ...         ...   \n",
            "605      1386.831732  350.079724  -4.483793 -1911.720392 -403.267984   \n",
            "606      1388.828664  365.389224   5.347366 -1910.658366 -397.327214   \n",
            "607      1338.275508  318.884726 -50.398301 -1914.221160 -412.696386   \n",
            "608      1394.694605  359.892163  -4.753444 -1913.212527 -401.586421   \n",
            "609      1463.150642  375.646796   1.552030 -1937.865672 -402.744141   \n",
            "\n",
            "movieId       6           7           8           9           10      ...  \\\n",
            "0        1471.048700 -158.936785 -823.981261 -288.280328  503.804703  ...   \n",
            "1        1451.320295 -160.363229 -817.519259 -287.941910  499.133553  ...   \n",
            "2        1449.962651 -158.705546 -814.695131 -287.138004  500.423832  ...   \n",
            "3        1440.279392 -156.304249 -813.981921 -285.105985  499.279493  ...   \n",
            "4        1450.423540 -160.684963 -817.905544 -288.131271  498.037312  ...   \n",
            "..               ...         ...         ...         ...         ...  ...   \n",
            "605      1449.986001 -162.247696 -817.650164 -289.560551  489.365797  ...   \n",
            "606      1453.720063 -158.208332 -816.925011 -285.547121  503.401132  ...   \n",
            "607      1454.838913 -170.247705 -820.824459 -290.507593  505.036899  ...   \n",
            "608      1449.426333 -160.561733 -817.143182 -287.793847  497.997932  ...   \n",
            "609      1489.088726 -156.105389 -827.491899 -292.060072  521.973829  ...   \n",
            "\n",
            "movieId      193565      193567       193571       193573      193579  \\\n",
            "0        508.688999 -556.684823  1574.062822  1574.062822  508.688999   \n",
            "1        506.435557 -552.727352  1565.598466  1565.598466  506.435557   \n",
            "2        505.752144 -551.596670  1563.100959  1563.100959  505.752144   \n",
            "3        506.017185 -551.782521  1563.816891  1563.816891  506.017185   \n",
            "4        506.504393 -552.673499  1565.682285  1565.682285  506.504393   \n",
            "..              ...         ...          ...          ...         ...   \n",
            "605      505.758450 -551.947934  1563.464834  1563.464834  505.758450   \n",
            "606      505.439048 -552.083561  1562.961658  1562.961658  505.439048   \n",
            "607      507.088216 -552.085730  1566.262161  1566.262161  507.088216   \n",
            "608      506.083081 -552.197963  1564.364125  1564.364125  506.083081   \n",
            "609      510.875455 -560.478472  1582.229383  1582.229383  510.875455   \n",
            "\n",
            "movieId       193581      193583      193585      193587       193609  \n",
            "0        1574.062822  508.688999  508.688999  508.688999  1574.062822  \n",
            "1        1565.598466  506.435557  506.435557  506.435557  1565.598466  \n",
            "2        1563.100959  505.752144  505.752144  505.752144  1563.100959  \n",
            "3        1563.816891  506.017185  506.017185  506.017185  1563.816891  \n",
            "4        1565.682285  506.504393  506.504393  506.504393  1565.682285  \n",
            "..               ...         ...         ...         ...          ...  \n",
            "605      1563.464834  505.758450  505.758450  505.758450  1563.464834  \n",
            "606      1562.961658  505.439048  505.439048  505.439048  1562.961658  \n",
            "607      1566.262161  507.088216  507.088216  507.088216  1566.262161  \n",
            "608      1564.364125  506.083081  506.083081  506.083081  1564.364125  \n",
            "609      1582.229383  510.875455  510.875455  510.875455  1582.229383  \n",
            "\n",
            "[610 rows x 9724 columns]>\n"
          ]
        }
      ]
    },
    {
      "cell_type": "markdown",
      "source": [
        "## Step 4: Movie Recommendations:\n"
      ],
      "metadata": {
        "id": "WgkhbNXiKKs7"
      },
      "id": "WgkhbNXiKKs7"
    },
    {
      "cell_type": "markdown",
      "id": "c231d848",
      "metadata": {
        "id": "c231d848"
      },
      "source": [
        "Write a recommendation function that suggests movies to a user based on predicted ratings. It takes in a user id and a number k, prints user's original rating, and recomends k movies.\n",
        "\n",
        "\n",
        "\n",
        "\n",
        "\n"
      ]
    },
    {
      "cell_type": "code",
      "execution_count": 21,
      "id": "ade124bc",
      "metadata": {
        "id": "ade124bc"
      },
      "outputs": [],
      "source": [
        "def recommend_movies(predictions_df, userID, movies_df, original_ratings_df, num_recommendations=5):\n",
        "\n",
        "    #Step 1: Get and sort the user's predictions\n",
        "    ## Adjust userID to match the zero-based index in predictions_df\n",
        "    user_row_number = userID - 1 # UserID starts at 1, not 0\n",
        "    ## Sort the predicted ratings for userID in descending order (highest predicted ratings first).\n",
        "    sorted_user_predictions = predictions_df.iloc[user_row_number].sort_values(ascending=False)\n",
        "\n",
        "    # Step 2: Get the user's data and merge in the movie information\n",
        "    ## Filter the original ratings DataFrame to only include the movies rated by userID .\n",
        "    user_data = original_ratings_df[original_ratings_df.userId == (userID)]\n",
        "    ##Merge the user data with movie details (titles, genres, etc.), and sort them by their actual ratings.\n",
        "    user_full = (user_data.merge(movies_df, how = 'left', left_on = 'movieId', right_on = 'movieId').\n",
        "                     sort_values(['rating'], ascending=False)\n",
        "                 )\n",
        "\n",
        "    print ('User {0} has already rated {1} movies.'.format(userID, user_full.shape[0]))\n",
        "    print ('Recommending the highest {0} predicted ratings movies not already rated.'.format(num_recommendations))\n",
        "\n",
        "\n",
        "\n",
        "    # Step 3: Recommend the highest predicted rating movies that the user hasn't seen yet\n",
        "    ## Filter out movies the user has already rated.\n",
        "    recommendations = (movies_df[~movies_df['movieId'].isin(user_full['movieId'])].\n",
        "         merge(pd.DataFrame(sorted_user_predictions).reset_index(), how = 'left',\n",
        "               left_on = 'movieId',\n",
        "               right_on = 'movieId').\n",
        "         rename(columns = {user_row_number: 'Predictions'}).\n",
        "         sort_values('Predictions', ascending = False).\n",
        "                       iloc[:num_recommendations, :-1]\n",
        "                      )\n",
        "    print(recommendations)\n",
        "\n",
        "    return user_full, recommendations\n",
        "\n"
      ]
    },
    {
      "cell_type": "code",
      "source": [
        "already_rated, predictions = recommend_movies(prediction, 400, movies, ratings, 3)"
      ],
      "metadata": {
        "colab": {
          "base_uri": "https://localhost:8080/"
        },
        "id": "Xaf_BNkmZXHl",
        "outputId": "1eecf367-e3b1-4017-de1a-c4c8481c85b8"
      },
      "id": "Xaf_BNkmZXHl",
      "execution_count": 22,
      "outputs": [
        {
          "output_type": "stream",
          "name": "stdout",
          "text": [
            "User 400 has already rated 43 movies.\n",
            "Recommending the highest 3 predicted ratings movies not already rated.\n",
            "      movieId                                           title  \\\n",
            "9347   163925                    Wings, Legs and Tails (1986)   \n",
            "5278     8804  Story of Women (Affaire de femmes, Une) (1988)   \n",
            "2640     3567                               Bossa Nova (2000)   \n",
            "\n",
            "                    genres  \n",
            "9347      Animation|Comedy  \n",
            "5278                 Drama  \n",
            "2640  Comedy|Drama|Romance  \n"
          ]
        }
      ]
    },
    {
      "cell_type": "markdown",
      "source": [
        "__Last step:__\n",
        "Add your own rating to the ratings dataframe and evaluate how well your recommender system performs!"
      ],
      "metadata": {
        "id": "jEjRj1UaZcQn"
      },
      "id": "jEjRj1UaZcQn"
    },
    {
      "cell_type": "code",
      "source": [
        "def getPredictionMatrix( input ):\n",
        "  user_item_rating_matrix = input.pivot(index = 'userId', columns ='movieId', values = 'rating')\n",
        "  user_item_rating_matrix.fillna(user_item_rating_matrix.mean(), inplace=True)\n",
        "  values = user_item_rating_matrix.values\n",
        "  mean = np.mean(values, axis=1)\n",
        "  values_reshaped = values - mean.reshape(-1,1)\n",
        "  svd = TruncatedSVD(n_components=50)\n",
        "  U = svd.fit_transform(values_reshaped)\n",
        "  sigma = svd.singular_values_\n",
        "  Vt = svd.components_\n",
        "  sigma_diag = np.diag(sigma)\n",
        "  first_array = np.matmul(U, sigma_diag)\n",
        "  data = np.matmul(first_array, Vt)\n",
        "  data = data + mean.reshape(-1,1)\n",
        "  prediction = pd.DataFrame(data, columns=user_item_rating_matrix.columns)\n",
        "  return prediction"
      ],
      "metadata": {
        "id": "ghWj4NkZZtzZ"
      },
      "id": "ghWj4NkZZtzZ",
      "execution_count": 31,
      "outputs": []
    },
    {
      "cell_type": "code",
      "source": [
        "my_ratings = pd.DataFrame({\"userId\" : [611,611,611,611,611,611],\n",
        "                           \"movieId\" : [1,2,35,43,62,107],\n",
        "                           \"rating\" : [4.5,4,2.5,5,4,4.5],\n",
        "                           \"timestamp\" : [1493846425,1493846435,1493846445,1493846455,1493846465,1493846475]})\n",
        "new_ratings = pd.concat([ratings, my_ratings], ignore_index=True)\n",
        "\n",
        "print(new_ratings.tail(6))\n",
        "new_prediction = getPredictionMatrix(new_ratings)"
      ],
      "metadata": {
        "colab": {
          "base_uri": "https://localhost:8080/"
        },
        "id": "XaJcCZiSboIs",
        "outputId": "518b81ad-0df7-4b2b-aab3-1459c3a7405c"
      },
      "id": "XaJcCZiSboIs",
      "execution_count": 33,
      "outputs": [
        {
          "output_type": "stream",
          "name": "stdout",
          "text": [
            "        userId  movieId  rating   timestamp\n",
            "100836     611        1     4.5  1493846425\n",
            "100837     611        2     4.0  1493846435\n",
            "100838     611       35     2.5  1493846445\n",
            "100839     611       43     5.0  1493846455\n",
            "100840     611       62     4.0  1493846465\n",
            "100841     611      107     4.5  1493846475\n"
          ]
        }
      ]
    },
    {
      "cell_type": "code",
      "source": [
        "already_rated, predictions = recommend_movies(new_prediction, 611, movies, new_ratings, 10)\n",
        "# it needs more data to work with, but its a pain to put in a bunch of those ratings so at the moment I am done."
      ],
      "metadata": {
        "id": "4Ft2hMk1b10V",
        "outputId": "7142d9a0-32b9-49ee-f3dc-9c8cd957878e",
        "colab": {
          "base_uri": "https://localhost:8080/"
        }
      },
      "id": "4Ft2hMk1b10V",
      "execution_count": 35,
      "outputs": [
        {
          "output_type": "stream",
          "name": "stdout",
          "text": [
            "User 611 has already rated 6 movies.\n",
            "Recommending the highest 10 predicted ratings movies not already rated.\n",
            "      movieId                                              title  \\\n",
            "3969     5607     Son of the Bride (Hijo de la novia, El) (2001)   \n",
            "8813   131098                                Saving Santa (2013)   \n",
            "2606     3496                            Madame Sousatzka (1988)   \n",
            "8815   131130            Tom and Jerry: A Nutcracker Tale (2007)   \n",
            "8816   131237                         What Men Talk About (2010)   \n",
            "8820   131610                                 Willy/Milly (1986)   \n",
            "8823   131724  The Jinx: The Life and Deaths of Robert Durst ...   \n",
            "2634     3531                All the Vermeers in New York (1990)   \n",
            "8832   132153                                     Buzzard (2015)   \n",
            "8834   132333                                        Seve (2014)   \n",
            "\n",
            "                         genres  \n",
            "3969               Comedy|Drama  \n",
            "8813  Animation|Children|Comedy  \n",
            "2606                      Drama  \n",
            "8815           Animation|Comedy  \n",
            "8816                     Comedy  \n",
            "8820             Comedy|Fantasy  \n",
            "8823                Documentary  \n",
            "2634       Comedy|Drama|Romance  \n",
            "8832        Comedy|Drama|Horror  \n",
            "8834          Documentary|Drama  \n"
          ]
        }
      ]
    },
    {
      "cell_type": "code",
      "source": [
        "print(ratings)\n",
        "print(ratings[\"rating\"].max())"
      ],
      "metadata": {
        "colab": {
          "base_uri": "https://localhost:8080/",
          "height": 578
        },
        "id": "tJw6cqfIY2Yj",
        "outputId": "c8705853-2a6b-4943-a2cb-c26169474855"
      },
      "id": "tJw6cqfIY2Yj",
      "execution_count": 87,
      "outputs": [
        {
          "output_type": "stream",
          "name": "stdout",
          "text": [
            "        userId  movieId  rating   timestamp\n",
            "0            1        1     4.0   964982703\n",
            "1            1        3     4.0   964981247\n",
            "2            1        6     4.0   964982224\n",
            "3            1       47     5.0   964983815\n",
            "4            1       50     5.0   964982931\n",
            "...        ...      ...     ...         ...\n",
            "100831     610   166534     4.0  1493848402\n",
            "100832     610   168248     5.0  1493850091\n",
            "100833     610   168250     5.0  1494273047\n",
            "100834     610   168252     5.0  1493846352\n",
            "100835     610   170875     3.0  1493846415\n",
            "\n",
            "[100836 rows x 4 columns]\n",
            "5.0\n"
          ]
        },
        {
          "output_type": "error",
          "ename": "AttributeError",
          "evalue": "'DataFrame' object has no attribute 'append'",
          "traceback": [
            "\u001b[0;31m---------------------------------------------------------------------------\u001b[0m",
            "\u001b[0;31mAttributeError\u001b[0m                            Traceback (most recent call last)",
            "\u001b[0;32m<ipython-input-87-c69d86f972b7>\u001b[0m in \u001b[0;36m<cell line: 3>\u001b[0;34m()\u001b[0m\n\u001b[1;32m      1\u001b[0m \u001b[0mprint\u001b[0m\u001b[0;34m(\u001b[0m\u001b[0mratings\u001b[0m\u001b[0;34m)\u001b[0m\u001b[0;34m\u001b[0m\u001b[0;34m\u001b[0m\u001b[0m\n\u001b[1;32m      2\u001b[0m \u001b[0mprint\u001b[0m\u001b[0;34m(\u001b[0m\u001b[0mratings\u001b[0m\u001b[0;34m[\u001b[0m\u001b[0;34m\"rating\"\u001b[0m\u001b[0;34m]\u001b[0m\u001b[0;34m.\u001b[0m\u001b[0mmax\u001b[0m\u001b[0;34m(\u001b[0m\u001b[0;34m)\u001b[0m\u001b[0;34m)\u001b[0m\u001b[0;34m\u001b[0m\u001b[0;34m\u001b[0m\u001b[0m\n\u001b[0;32m----> 3\u001b[0;31m \u001b[0mratings\u001b[0m\u001b[0;34m.\u001b[0m\u001b[0mappend\u001b[0m\u001b[0;34m(\u001b[0m\u001b[0;34m[\u001b[0m\u001b[0;36m611\u001b[0m\u001b[0;34m,\u001b[0m \u001b[0;36m1\u001b[0m\u001b[0;34m,\u001b[0m \u001b[0;36m5\u001b[0m\u001b[0;34m,\u001b[0m \u001b[0;36m123456789\u001b[0m\u001b[0;34m]\u001b[0m\u001b[0;34m)\u001b[0m\u001b[0;34m\u001b[0m\u001b[0;34m\u001b[0m\u001b[0m\n\u001b[0m",
            "\u001b[0;32m/usr/local/lib/python3.10/dist-packages/pandas/core/generic.py\u001b[0m in \u001b[0;36m__getattr__\u001b[0;34m(self, name)\u001b[0m\n\u001b[1;32m   6297\u001b[0m         ):\n\u001b[1;32m   6298\u001b[0m             \u001b[0;32mreturn\u001b[0m \u001b[0mself\u001b[0m\u001b[0;34m[\u001b[0m\u001b[0mname\u001b[0m\u001b[0;34m]\u001b[0m\u001b[0;34m\u001b[0m\u001b[0;34m\u001b[0m\u001b[0m\n\u001b[0;32m-> 6299\u001b[0;31m         \u001b[0;32mreturn\u001b[0m \u001b[0mobject\u001b[0m\u001b[0;34m.\u001b[0m\u001b[0m__getattribute__\u001b[0m\u001b[0;34m(\u001b[0m\u001b[0mself\u001b[0m\u001b[0;34m,\u001b[0m \u001b[0mname\u001b[0m\u001b[0;34m)\u001b[0m\u001b[0;34m\u001b[0m\u001b[0;34m\u001b[0m\u001b[0m\n\u001b[0m\u001b[1;32m   6300\u001b[0m \u001b[0;34m\u001b[0m\u001b[0m\n\u001b[1;32m   6301\u001b[0m     \u001b[0;34m@\u001b[0m\u001b[0mfinal\u001b[0m\u001b[0;34m\u001b[0m\u001b[0;34m\u001b[0m\u001b[0m\n",
            "\u001b[0;31mAttributeError\u001b[0m: 'DataFrame' object has no attribute 'append'"
          ]
        }
      ]
    },
    {
      "cell_type": "code",
      "source": [
        "movies"
      ],
      "metadata": {
        "colab": {
          "base_uri": "https://localhost:8080/",
          "height": 701
        },
        "id": "VtvPvo5maHub",
        "outputId": "b9f4e0aa-daa9-4e60-c925-7e71672b845b"
      },
      "id": "VtvPvo5maHub",
      "execution_count": 84,
      "outputs": [
        {
          "output_type": "execute_result",
          "data": {
            "text/plain": [
              "      movieId                                      title  \\\n",
              "0           1                           Toy Story (1995)   \n",
              "1           2                             Jumanji (1995)   \n",
              "2           3                    Grumpier Old Men (1995)   \n",
              "3           4                   Waiting to Exhale (1995)   \n",
              "4           5         Father of the Bride Part II (1995)   \n",
              "...       ...                                        ...   \n",
              "9737   193581  Black Butler: Book of the Atlantic (2017)   \n",
              "9738   193583               No Game No Life: Zero (2017)   \n",
              "9739   193585                               Flint (2017)   \n",
              "9740   193587        Bungo Stray Dogs: Dead Apple (2018)   \n",
              "9741   193609        Andrew Dice Clay: Dice Rules (1991)   \n",
              "\n",
              "                                           genres  \n",
              "0     Adventure|Animation|Children|Comedy|Fantasy  \n",
              "1                      Adventure|Children|Fantasy  \n",
              "2                                  Comedy|Romance  \n",
              "3                            Comedy|Drama|Romance  \n",
              "4                                          Comedy  \n",
              "...                                           ...  \n",
              "9737              Action|Animation|Comedy|Fantasy  \n",
              "9738                     Animation|Comedy|Fantasy  \n",
              "9739                                        Drama  \n",
              "9740                             Action|Animation  \n",
              "9741                                       Comedy  \n",
              "\n",
              "[9742 rows x 3 columns]"
            ],
            "text/html": [
              "\n",
              "  <div id=\"df-9649ff13-9728-4891-bcbb-21cbbf61d086\" class=\"colab-df-container\">\n",
              "    <div>\n",
              "<style scoped>\n",
              "    .dataframe tbody tr th:only-of-type {\n",
              "        vertical-align: middle;\n",
              "    }\n",
              "\n",
              "    .dataframe tbody tr th {\n",
              "        vertical-align: top;\n",
              "    }\n",
              "\n",
              "    .dataframe thead th {\n",
              "        text-align: right;\n",
              "    }\n",
              "</style>\n",
              "<table border=\"1\" class=\"dataframe\">\n",
              "  <thead>\n",
              "    <tr style=\"text-align: right;\">\n",
              "      <th></th>\n",
              "      <th>movieId</th>\n",
              "      <th>title</th>\n",
              "      <th>genres</th>\n",
              "    </tr>\n",
              "  </thead>\n",
              "  <tbody>\n",
              "    <tr>\n",
              "      <th>0</th>\n",
              "      <td>1</td>\n",
              "      <td>Toy Story (1995)</td>\n",
              "      <td>Adventure|Animation|Children|Comedy|Fantasy</td>\n",
              "    </tr>\n",
              "    <tr>\n",
              "      <th>1</th>\n",
              "      <td>2</td>\n",
              "      <td>Jumanji (1995)</td>\n",
              "      <td>Adventure|Children|Fantasy</td>\n",
              "    </tr>\n",
              "    <tr>\n",
              "      <th>2</th>\n",
              "      <td>3</td>\n",
              "      <td>Grumpier Old Men (1995)</td>\n",
              "      <td>Comedy|Romance</td>\n",
              "    </tr>\n",
              "    <tr>\n",
              "      <th>3</th>\n",
              "      <td>4</td>\n",
              "      <td>Waiting to Exhale (1995)</td>\n",
              "      <td>Comedy|Drama|Romance</td>\n",
              "    </tr>\n",
              "    <tr>\n",
              "      <th>4</th>\n",
              "      <td>5</td>\n",
              "      <td>Father of the Bride Part II (1995)</td>\n",
              "      <td>Comedy</td>\n",
              "    </tr>\n",
              "    <tr>\n",
              "      <th>...</th>\n",
              "      <td>...</td>\n",
              "      <td>...</td>\n",
              "      <td>...</td>\n",
              "    </tr>\n",
              "    <tr>\n",
              "      <th>9737</th>\n",
              "      <td>193581</td>\n",
              "      <td>Black Butler: Book of the Atlantic (2017)</td>\n",
              "      <td>Action|Animation|Comedy|Fantasy</td>\n",
              "    </tr>\n",
              "    <tr>\n",
              "      <th>9738</th>\n",
              "      <td>193583</td>\n",
              "      <td>No Game No Life: Zero (2017)</td>\n",
              "      <td>Animation|Comedy|Fantasy</td>\n",
              "    </tr>\n",
              "    <tr>\n",
              "      <th>9739</th>\n",
              "      <td>193585</td>\n",
              "      <td>Flint (2017)</td>\n",
              "      <td>Drama</td>\n",
              "    </tr>\n",
              "    <tr>\n",
              "      <th>9740</th>\n",
              "      <td>193587</td>\n",
              "      <td>Bungo Stray Dogs: Dead Apple (2018)</td>\n",
              "      <td>Action|Animation</td>\n",
              "    </tr>\n",
              "    <tr>\n",
              "      <th>9741</th>\n",
              "      <td>193609</td>\n",
              "      <td>Andrew Dice Clay: Dice Rules (1991)</td>\n",
              "      <td>Comedy</td>\n",
              "    </tr>\n",
              "  </tbody>\n",
              "</table>\n",
              "<p>9742 rows × 3 columns</p>\n",
              "</div>\n",
              "    <div class=\"colab-df-buttons\">\n",
              "\n",
              "  <div class=\"colab-df-container\">\n",
              "    <button class=\"colab-df-convert\" onclick=\"convertToInteractive('df-9649ff13-9728-4891-bcbb-21cbbf61d086')\"\n",
              "            title=\"Convert this dataframe to an interactive table.\"\n",
              "            style=\"display:none;\">\n",
              "\n",
              "  <svg xmlns=\"http://www.w3.org/2000/svg\" height=\"24px\" viewBox=\"0 -960 960 960\">\n",
              "    <path d=\"M120-120v-720h720v720H120Zm60-500h600v-160H180v160Zm220 220h160v-160H400v160Zm0 220h160v-160H400v160ZM180-400h160v-160H180v160Zm440 0h160v-160H620v160ZM180-180h160v-160H180v160Zm440 0h160v-160H620v160Z\"/>\n",
              "  </svg>\n",
              "    </button>\n",
              "\n",
              "  <style>\n",
              "    .colab-df-container {\n",
              "      display:flex;\n",
              "      gap: 12px;\n",
              "    }\n",
              "\n",
              "    .colab-df-convert {\n",
              "      background-color: #E8F0FE;\n",
              "      border: none;\n",
              "      border-radius: 50%;\n",
              "      cursor: pointer;\n",
              "      display: none;\n",
              "      fill: #1967D2;\n",
              "      height: 32px;\n",
              "      padding: 0 0 0 0;\n",
              "      width: 32px;\n",
              "    }\n",
              "\n",
              "    .colab-df-convert:hover {\n",
              "      background-color: #E2EBFA;\n",
              "      box-shadow: 0px 1px 2px rgba(60, 64, 67, 0.3), 0px 1px 3px 1px rgba(60, 64, 67, 0.15);\n",
              "      fill: #174EA6;\n",
              "    }\n",
              "\n",
              "    .colab-df-buttons div {\n",
              "      margin-bottom: 4px;\n",
              "    }\n",
              "\n",
              "    [theme=dark] .colab-df-convert {\n",
              "      background-color: #3B4455;\n",
              "      fill: #D2E3FC;\n",
              "    }\n",
              "\n",
              "    [theme=dark] .colab-df-convert:hover {\n",
              "      background-color: #434B5C;\n",
              "      box-shadow: 0px 1px 3px 1px rgba(0, 0, 0, 0.15);\n",
              "      filter: drop-shadow(0px 1px 2px rgba(0, 0, 0, 0.3));\n",
              "      fill: #FFFFFF;\n",
              "    }\n",
              "  </style>\n",
              "\n",
              "    <script>\n",
              "      const buttonEl =\n",
              "        document.querySelector('#df-9649ff13-9728-4891-bcbb-21cbbf61d086 button.colab-df-convert');\n",
              "      buttonEl.style.display =\n",
              "        google.colab.kernel.accessAllowed ? 'block' : 'none';\n",
              "\n",
              "      async function convertToInteractive(key) {\n",
              "        const element = document.querySelector('#df-9649ff13-9728-4891-bcbb-21cbbf61d086');\n",
              "        const dataTable =\n",
              "          await google.colab.kernel.invokeFunction('convertToInteractive',\n",
              "                                                    [key], {});\n",
              "        if (!dataTable) return;\n",
              "\n",
              "        const docLinkHtml = 'Like what you see? Visit the ' +\n",
              "          '<a target=\"_blank\" href=https://colab.research.google.com/notebooks/data_table.ipynb>data table notebook</a>'\n",
              "          + ' to learn more about interactive tables.';\n",
              "        element.innerHTML = '';\n",
              "        dataTable['output_type'] = 'display_data';\n",
              "        await google.colab.output.renderOutput(dataTable, element);\n",
              "        const docLink = document.createElement('div');\n",
              "        docLink.innerHTML = docLinkHtml;\n",
              "        element.appendChild(docLink);\n",
              "      }\n",
              "    </script>\n",
              "  </div>\n",
              "\n",
              "\n",
              "<div id=\"df-0efcea7d-583f-41ed-b7a3-ff8215113fe5\">\n",
              "  <button class=\"colab-df-quickchart\" onclick=\"quickchart('df-0efcea7d-583f-41ed-b7a3-ff8215113fe5')\"\n",
              "            title=\"Suggest charts\"\n",
              "            style=\"display:none;\">\n",
              "\n",
              "<svg xmlns=\"http://www.w3.org/2000/svg\" height=\"24px\"viewBox=\"0 0 24 24\"\n",
              "     width=\"24px\">\n",
              "    <g>\n",
              "        <path d=\"M19 3H5c-1.1 0-2 .9-2 2v14c0 1.1.9 2 2 2h14c1.1 0 2-.9 2-2V5c0-1.1-.9-2-2-2zM9 17H7v-7h2v7zm4 0h-2V7h2v10zm4 0h-2v-4h2v4z\"/>\n",
              "    </g>\n",
              "</svg>\n",
              "  </button>\n",
              "\n",
              "<style>\n",
              "  .colab-df-quickchart {\n",
              "      --bg-color: #E8F0FE;\n",
              "      --fill-color: #1967D2;\n",
              "      --hover-bg-color: #E2EBFA;\n",
              "      --hover-fill-color: #174EA6;\n",
              "      --disabled-fill-color: #AAA;\n",
              "      --disabled-bg-color: #DDD;\n",
              "  }\n",
              "\n",
              "  [theme=dark] .colab-df-quickchart {\n",
              "      --bg-color: #3B4455;\n",
              "      --fill-color: #D2E3FC;\n",
              "      --hover-bg-color: #434B5C;\n",
              "      --hover-fill-color: #FFFFFF;\n",
              "      --disabled-bg-color: #3B4455;\n",
              "      --disabled-fill-color: #666;\n",
              "  }\n",
              "\n",
              "  .colab-df-quickchart {\n",
              "    background-color: var(--bg-color);\n",
              "    border: none;\n",
              "    border-radius: 50%;\n",
              "    cursor: pointer;\n",
              "    display: none;\n",
              "    fill: var(--fill-color);\n",
              "    height: 32px;\n",
              "    padding: 0;\n",
              "    width: 32px;\n",
              "  }\n",
              "\n",
              "  .colab-df-quickchart:hover {\n",
              "    background-color: var(--hover-bg-color);\n",
              "    box-shadow: 0 1px 2px rgba(60, 64, 67, 0.3), 0 1px 3px 1px rgba(60, 64, 67, 0.15);\n",
              "    fill: var(--button-hover-fill-color);\n",
              "  }\n",
              "\n",
              "  .colab-df-quickchart-complete:disabled,\n",
              "  .colab-df-quickchart-complete:disabled:hover {\n",
              "    background-color: var(--disabled-bg-color);\n",
              "    fill: var(--disabled-fill-color);\n",
              "    box-shadow: none;\n",
              "  }\n",
              "\n",
              "  .colab-df-spinner {\n",
              "    border: 2px solid var(--fill-color);\n",
              "    border-color: transparent;\n",
              "    border-bottom-color: var(--fill-color);\n",
              "    animation:\n",
              "      spin 1s steps(1) infinite;\n",
              "  }\n",
              "\n",
              "  @keyframes spin {\n",
              "    0% {\n",
              "      border-color: transparent;\n",
              "      border-bottom-color: var(--fill-color);\n",
              "      border-left-color: var(--fill-color);\n",
              "    }\n",
              "    20% {\n",
              "      border-color: transparent;\n",
              "      border-left-color: var(--fill-color);\n",
              "      border-top-color: var(--fill-color);\n",
              "    }\n",
              "    30% {\n",
              "      border-color: transparent;\n",
              "      border-left-color: var(--fill-color);\n",
              "      border-top-color: var(--fill-color);\n",
              "      border-right-color: var(--fill-color);\n",
              "    }\n",
              "    40% {\n",
              "      border-color: transparent;\n",
              "      border-right-color: var(--fill-color);\n",
              "      border-top-color: var(--fill-color);\n",
              "    }\n",
              "    60% {\n",
              "      border-color: transparent;\n",
              "      border-right-color: var(--fill-color);\n",
              "    }\n",
              "    80% {\n",
              "      border-color: transparent;\n",
              "      border-right-color: var(--fill-color);\n",
              "      border-bottom-color: var(--fill-color);\n",
              "    }\n",
              "    90% {\n",
              "      border-color: transparent;\n",
              "      border-bottom-color: var(--fill-color);\n",
              "    }\n",
              "  }\n",
              "</style>\n",
              "\n",
              "  <script>\n",
              "    async function quickchart(key) {\n",
              "      const quickchartButtonEl =\n",
              "        document.querySelector('#' + key + ' button');\n",
              "      quickchartButtonEl.disabled = true;  // To prevent multiple clicks.\n",
              "      quickchartButtonEl.classList.add('colab-df-spinner');\n",
              "      try {\n",
              "        const charts = await google.colab.kernel.invokeFunction(\n",
              "            'suggestCharts', [key], {});\n",
              "      } catch (error) {\n",
              "        console.error('Error during call to suggestCharts:', error);\n",
              "      }\n",
              "      quickchartButtonEl.classList.remove('colab-df-spinner');\n",
              "      quickchartButtonEl.classList.add('colab-df-quickchart-complete');\n",
              "    }\n",
              "    (() => {\n",
              "      let quickchartButtonEl =\n",
              "        document.querySelector('#df-0efcea7d-583f-41ed-b7a3-ff8215113fe5 button');\n",
              "      quickchartButtonEl.style.display =\n",
              "        google.colab.kernel.accessAllowed ? 'block' : 'none';\n",
              "    })();\n",
              "  </script>\n",
              "</div>\n",
              "\n",
              "  <div id=\"id_f6985c53-bf77-45d7-a785-9bbc1692ec8f\">\n",
              "    <style>\n",
              "      .colab-df-generate {\n",
              "        background-color: #E8F0FE;\n",
              "        border: none;\n",
              "        border-radius: 50%;\n",
              "        cursor: pointer;\n",
              "        display: none;\n",
              "        fill: #1967D2;\n",
              "        height: 32px;\n",
              "        padding: 0 0 0 0;\n",
              "        width: 32px;\n",
              "      }\n",
              "\n",
              "      .colab-df-generate:hover {\n",
              "        background-color: #E2EBFA;\n",
              "        box-shadow: 0px 1px 2px rgba(60, 64, 67, 0.3), 0px 1px 3px 1px rgba(60, 64, 67, 0.15);\n",
              "        fill: #174EA6;\n",
              "      }\n",
              "\n",
              "      [theme=dark] .colab-df-generate {\n",
              "        background-color: #3B4455;\n",
              "        fill: #D2E3FC;\n",
              "      }\n",
              "\n",
              "      [theme=dark] .colab-df-generate:hover {\n",
              "        background-color: #434B5C;\n",
              "        box-shadow: 0px 1px 3px 1px rgba(0, 0, 0, 0.15);\n",
              "        filter: drop-shadow(0px 1px 2px rgba(0, 0, 0, 0.3));\n",
              "        fill: #FFFFFF;\n",
              "      }\n",
              "    </style>\n",
              "    <button class=\"colab-df-generate\" onclick=\"generateWithVariable('movies')\"\n",
              "            title=\"Generate code using this dataframe.\"\n",
              "            style=\"display:none;\">\n",
              "\n",
              "  <svg xmlns=\"http://www.w3.org/2000/svg\" height=\"24px\"viewBox=\"0 0 24 24\"\n",
              "       width=\"24px\">\n",
              "    <path d=\"M7,19H8.4L18.45,9,17,7.55,7,17.6ZM5,21V16.75L18.45,3.32a2,2,0,0,1,2.83,0l1.4,1.43a1.91,1.91,0,0,1,.58,1.4,1.91,1.91,0,0,1-.58,1.4L9.25,21ZM18.45,9,17,7.55Zm-12,3A5.31,5.31,0,0,0,4.9,8.1,5.31,5.31,0,0,0,1,6.5,5.31,5.31,0,0,0,4.9,4.9,5.31,5.31,0,0,0,6.5,1,5.31,5.31,0,0,0,8.1,4.9,5.31,5.31,0,0,0,12,6.5,5.46,5.46,0,0,0,6.5,12Z\"/>\n",
              "  </svg>\n",
              "    </button>\n",
              "    <script>\n",
              "      (() => {\n",
              "      const buttonEl =\n",
              "        document.querySelector('#id_f6985c53-bf77-45d7-a785-9bbc1692ec8f button.colab-df-generate');\n",
              "      buttonEl.style.display =\n",
              "        google.colab.kernel.accessAllowed ? 'block' : 'none';\n",
              "\n",
              "      buttonEl.onclick = () => {\n",
              "        google.colab.notebook.generateWithVariable('movies');\n",
              "      }\n",
              "      })();\n",
              "    </script>\n",
              "  </div>\n",
              "\n",
              "    </div>\n",
              "  </div>\n"
            ],
            "application/vnd.google.colaboratory.intrinsic+json": {
              "type": "dataframe",
              "variable_name": "movies",
              "summary": "{\n  \"name\": \"movies\",\n  \"rows\": 9742,\n  \"fields\": [\n    {\n      \"column\": \"movieId\",\n      \"properties\": {\n        \"dtype\": \"number\",\n        \"std\": 52160,\n        \"min\": 1,\n        \"max\": 193609,\n        \"num_unique_values\": 9742,\n        \"samples\": [\n          45635,\n          1373,\n          7325\n        ],\n        \"semantic_type\": \"\",\n        \"description\": \"\"\n      }\n    },\n    {\n      \"column\": \"title\",\n      \"properties\": {\n        \"dtype\": \"string\",\n        \"num_unique_values\": 9737,\n        \"samples\": [\n          \"Teenage Mutant Ninja Turtles (2014)\",\n          \"America's Sweethearts (2001)\",\n          \"Cast Away (2000)\"\n        ],\n        \"semantic_type\": \"\",\n        \"description\": \"\"\n      }\n    },\n    {\n      \"column\": \"genres\",\n      \"properties\": {\n        \"dtype\": \"category\",\n        \"num_unique_values\": 951,\n        \"samples\": [\n          \"Crime|Mystery|Romance|Thriller\",\n          \"Action|Adventure|Comedy|Western\",\n          \"Crime|Drama|Musical\"\n        ],\n        \"semantic_type\": \"\",\n        \"description\": \"\"\n      }\n    }\n  ]\n}"
            }
          },
          "metadata": {},
          "execution_count": 84
        }
      ]
    },
    {
      "cell_type": "markdown",
      "id": "e1864122",
      "metadata": {
        "id": "e1864122"
      },
      "source": [
        "Well Done! You are done with this lab too!"
      ]
    },
    {
      "cell_type": "markdown",
      "id": "ce7b9481",
      "metadata": {
        "id": "ce7b9481"
      },
      "source": [
        "Refrences:\n",
        "\n",
        "1. https://www.statlearning.com/\n",
        "\n",
        "2. https://beckernick.github.io/datascience/\n",
        "\n",
        "3. http://grouplens.org/datasets/movielens/\n"
      ]
    },
    {
      "cell_type": "code",
      "execution_count": null,
      "id": "e2a5f458",
      "metadata": {
        "colab": {
          "base_uri": "https://localhost:8080/"
        },
        "id": "e2a5f458",
        "outputId": "f4576015-c72a-408b-a6c5-fa32f5aa8da9"
      },
      "outputs": [
        {
          "output_type": "stream",
          "name": "stdout",
          "text": [
            "User 400 has already rated 43 movies.\n",
            "Recommending the highest 3 predicted ratings movies not already rated.\n"
          ]
        }
      ],
      "source": []
    },
    {
      "cell_type": "code",
      "source": [],
      "metadata": {
        "id": "nALvDWlnWrj8"
      },
      "id": "nALvDWlnWrj8",
      "execution_count": null,
      "outputs": []
    }
  ],
  "metadata": {
    "kernelspec": {
      "display_name": "Python 3",
      "language": "python",
      "name": "python3"
    },
    "language_info": {
      "codemirror_mode": {
        "name": "ipython",
        "version": 3
      },
      "file_extension": ".py",
      "mimetype": "text/x-python",
      "name": "python",
      "nbconvert_exporter": "python",
      "pygments_lexer": "ipython3",
      "version": "3.8.5"
    },
    "colab": {
      "provenance": [],
      "toc_visible": true
    }
  },
  "nbformat": 4,
  "nbformat_minor": 5
}